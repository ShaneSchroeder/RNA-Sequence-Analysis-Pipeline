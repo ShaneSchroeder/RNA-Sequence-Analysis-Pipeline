{
 "cells": [
  {
   "cell_type": "markdown",
   "id": "1ec9d1be",
   "metadata": {},
   "source": [
    "# Once you have finished the 5th notebook, there are some additional scripts that you can run to get a more concrete analysis of the sequence comparison. These scripts are written in R and use the Rsubread package (already installed use with command: \n",
    "# module load R-4.1.2"
   ]
  },
  {
   "cell_type": "code",
   "execution_count": 1,
   "id": "e60eb05e",
   "metadata": {},
   "outputs": [
    {
     "name": "stdout",
     "output_type": "stream",
     "text": [
      "schroe51\n"
     ]
    }
   ],
   "source": [
    "MIAMIID = !echo $USER\n",
    "MIAMIID = str(MIAMIID)\n",
    "MIAMIID = MIAMIID[2:len(MIAMIID)-2]\n",
    "print(MIAMIID)"
   ]
  },
  {
   "cell_type": "markdown",
   "id": "9dc0475c",
   "metadata": {},
   "source": [
    "Lets now take a look at our analyzed files from kallisto."
   ]
  },
  {
   "cell_type": "code",
   "execution_count": 2,
   "id": "61008c93",
   "metadata": {},
   "outputs": [
    {
     "name": "stdout",
     "output_type": "stream",
     "text": [
      "/home/schroe51/test/kallisto/analyzed\n",
      "SRR5017128_trimmed.fastq_quant\tSRR5017135_trimmed.fastq_quant\r\n",
      "SRR5017132_trimmed.fastq_quant\tSRR5017137_trimmed.fastq_quant\r\n",
      "SRR5017133_trimmed.fastq_quant\tSRR5017138_trimmed.fastq_quant\r\n"
     ]
    }
   ],
   "source": [
    "%cd /home/{MIAMIID}/test/kallisto/analyzed\n",
    "!ls"
   ]
  },
  {
   "cell_type": "markdown",
   "id": "4d22b40f",
   "metadata": {},
   "source": [
    "We will now setup an R script that gets the feature counts for all of our BAM files from kallisto."
   ]
  },
  {
   "cell_type": "code",
   "execution_count": 3,
   "id": "820c10ad",
   "metadata": {},
   "outputs": [
    {
     "name": "stdout",
     "output_type": "stream",
     "text": [
      "c(\"/home/schroe51/test/kallisto/analyzed/SRR5017128_trimmed.fastq_quant/pseudoalignments.bam\", \"/home/schroe51/test/kallisto/analyzed/SRR5017132_trimmed.fastq_quant/pseudoalignments.bam\", \"/home/schroe51/test/kallisto/analyzed/SRR5017133_trimmed.fastq_quant/pseudoalignments.bam\", \"/home/schroe51/test/kallisto/analyzed/SRR5017135_trimmed.fastq_quant/pseudoalignments.bam\", \"/home/schroe51/test/kallisto/analyzed/SRR5017137_trimmed.fastq_quant/pseudoalignments.bam\", \"/home/schroe51/test/kallisto/analyzed/SRR5017138_trimmed.fastq_quant/pseudoalignments.bam\")\n",
      "c(\"SRR5017128\",\"SRR5017132\",\"SRR5017133\",\"SRR5017135\",\"SRR5017137\",\"SRR5017138\")\n"
     ]
    }
   ],
   "source": [
    "import os\n",
    "\n",
    "path = \"/home/\"+ MIAMIID + \"/test/kallisto/analyzed\"\n",
    "allBamFilePaths = []\n",
    "for analyzedFolder in os.listdir(path):\n",
    "    allBamFilePaths.append(path + \"/\" + analyzedFolder + \"/pseudoalignments.bam\")\n",
    "\n",
    "bamFilePathsForR = \"c(\"\n",
    "for path in allBamFilePaths:\n",
    "    bamFilePathsForR = bamFilePathsForR + '\"' + path + '\", '\n",
    "bamFilePathsForR = bamFilePathsForR[:-2] + \")\"\n",
    "print(bamFilePathsForR)\n",
    "\n",
    "runNames = 'c(\"SRR5017128\",\"SRR5017132\",\"SRR5017133\",\"SRR5017135\",\"SRR5017137\",\"SRR5017138\")'\n",
    "print(runNames)"
   ]
  },
  {
   "cell_type": "code",
   "execution_count": 4,
   "id": "61a8be4d",
   "metadata": {},
   "outputs": [
    {
     "name": "stdout",
     "output_type": "stream",
     "text": [
      "/home/schroe51/test/featureCounts\n"
     ]
    }
   ],
   "source": [
    "%mkdir -p /home/{MIAMIID}/test/featureCounts\n",
    "%cd /home/{MIAMIID}/test/featureCounts"
   ]
  },
  {
   "cell_type": "code",
   "execution_count": 5,
   "id": "233a9206",
   "metadata": {},
   "outputs": [],
   "source": [
    "pathToGTF = \"/home/\"+ MIAMIID + \"/test/kallisto/annotations/Mus_musculus.GRCm38.97.chr.gtf.gz\"\n",
    "\n",
    "featureCountsScript = '''\n",
    "library(\"Rsubread\")\n",
    "\n",
    "\n",
    "fc <- featureCounts(files=''' + bamFilePathsForR + ''',annot.ext=\"''' + pathToGTF + '''\",\n",
    "isGTFAnnotationFile=TRUE,GTF.featureType=\"exon\",GTF.attrType=\"gene_id\", nthreads=24)\n",
    "\n",
    "table=data.frame(fc$annotation[\"GeneID\"],fc$counts,stringsAsFactors=FALSE)\n",
    "\n",
    "colnames(table)[2:7] <- ''' + runNames + '''\n",
    "\n",
    "write.table(table, file=\"counts_short.csv\",quote=FALSE,sep=\",\",row.names=FALSE)\n",
    "'''\n",
    "with open('featureCounts.R', 'w') as file:\n",
    "  file.write(featureCountsScript)"
   ]
  },
  {
   "cell_type": "markdown",
   "id": "181130e2",
   "metadata": {},
   "source": [
    "# Now we can run our script to get the feature counts for all of our BAM alignments."
   ]
  },
  {
   "cell_type": "code",
   "execution_count": 6,
   "id": "b560ce50",
   "metadata": {
    "scrolled": true
   },
   "outputs": [
    {
     "name": "stdout",
     "output_type": "stream",
     "text": [
      "\n",
      "library(\"Rsubread\")\n",
      "\n",
      "\n",
      "fc <- featureCounts(files=c(\"/home/schroe51/test/kallisto/analyzed/SRR5017128_trimmed.fastq_quant/pseudoalignments.bam\", \"/home/schroe51/test/kallisto/analyzed/SRR5017132_trimmed.fastq_quant/pseudoalignments.bam\", \"/home/schroe51/test/kallisto/analyzed/SRR5017133_trimmed.fastq_quant/pseudoalignments.bam\", \"/home/schroe51/test/kallisto/analyzed/SRR5017135_trimmed.fastq_quant/pseudoalignments.bam\", \"/home/schroe51/test/kallisto/analyzed/SRR5017137_trimmed.fastq_quant/pseudoalignments.bam\", \"/home/schroe51/test/kallisto/analyzed/SRR5017138_trimmed.fastq_quant/pseudoalignments.bam\"),annot.ext=\"/home/schroe51/test/kallisto/annotations/Mus_musculus.GRCm38.97.chr.gtf.gz\",\n",
      "isGTFAnnotationFile=TRUE,GTF.featureType=\"exon\",GTF.attrType=\"gene_id\", nthreads=24)\n",
      "\n",
      "table=data.frame(fc$annotation[\"GeneID\"],fc$counts,stringsAsFactors=FALSE)\n",
      "\n",
      "colnames(table)[2:7] <- c(\"SRR5017128\",\"SRR5017132\",\"SRR5017133\",\"SRR5017135\",\"SRR5017137\",\"SRR5017138\")\n",
      "\n",
      "write.table(table, file=\"counts_short.csv\",quote=FALSE,sep=\",\",row.names=FALSE)\n"
     ]
    }
   ],
   "source": [
    "%%sh\n",
    "cat featureCounts.R"
   ]
  },
  {
   "cell_type": "code",
   "execution_count": 7,
   "id": "6d41d98d",
   "metadata": {
    "scrolled": false
   },
   "outputs": [
    {
     "name": "stdout",
     "output_type": "stream",
     "text": [
      "\n",
      "        ==========     _____ _    _ ____  _____  ______          _____  \n",
      "        =====         / ____| |  | |  _ \\|  __ \\|  ____|   /\\   |  __ \\ \n",
      "          =====      | (___ | |  | | |_) | |__) | |__     /  \\  | |  | |\n",
      "            ====      \\___ \\| |  | |  _ <|  _  /|  __|   / /\\ \\ | |  | |\n",
      "              ====    ____) | |__| | |_) | | \\ \\| |____ / ____ \\| |__| |\n",
      "        ==========   |_____/ \\____/|____/|_|  \\_\\______/_/    \\_\\_____/\n",
      "       Rsubread 2.8.2\n",
      "\n",
      "//========================== featureCounts setting ===========================\\\\\n",
      "||                                                                            ||\n",
      "||             Input files : 6 BAM files                                      ||\n",
      "||                                                                            ||\n",
      "||                           pseudoalignments.bam                             ||\n",
      "||                           pseudoalignments.bam                             ||\n",
      "||                           pseudoalignments.bam                             ||\n",
      "||                           pseudoalignments.bam                             ||\n",
      "||                           pseudoalignments.bam                             ||\n",
      "||                           pseudoalignments.bam                             ||\n",
      "||                                                                            ||\n",
      "||              Paired-end : no                                               ||\n",
      "||        Count read pairs : no                                               ||\n",
      "||              Annotation : Mus_musculus.GRCm38.97.chr.gtf.gz (GTF)          ||\n",
      "||      Dir for temp files : .                                                ||\n",
      "||                 Threads : 24                                               ||\n",
      "||                   Level : meta-feature level                               ||\n",
      "||      Multimapping reads : counted                                          ||\n",
      "|| Multi-overlapping reads : not counted                                      ||\n",
      "||   Min overlapping bases : 1                                                ||\n",
      "||                                                                            ||\n",
      "\\\\============================================================================//\n",
      "\n",
      "//================================= Running ==================================\\\\\n",
      "||                                                                            ||\n",
      "|| Load annotation file Mus_musculus.GRCm38.97.chr.gtf.gz ...                 ||\n",
      "||    Features : 838802                                                       ||\n",
      "||    Meta-features : 55487                                                   ||\n",
      "||    Chromosomes/contigs : 22                                                ||\n",
      "||                                                                            ||\n",
      "|| Process BAM file pseudoalignments.bam...                                   ||\n",
      "||    Single-end reads are included.                                          ||\n",
      "||    Total alignments : 1939                                                 ||\n",
      "||    Successfully assigned alignments : 1397 (72.0%)                         ||\n",
      "||    Running time : 0.01 minutes                                             ||\n",
      "||                                                                            ||\n",
      "|| Process BAM file pseudoalignments.bam...                                   ||\n",
      "||    Single-end reads are included.                                          ||\n",
      "||    Total alignments : 1878                                                 ||\n",
      "||    Successfully assigned alignments : 1465 (78.0%)                         ||\n",
      "||    Running time : 0.01 minutes                                             ||\n",
      "||                                                                            ||\n",
      "|| Process BAM file pseudoalignments.bam...                                   ||\n",
      "||    Single-end reads are included.                                          ||\n",
      "||    Total alignments : 1908                                                 ||\n",
      "||    Successfully assigned alignments : 1466 (76.8%)                         ||\n",
      "||    Running time : 0.01 minutes                                             ||\n",
      "||                                                                            ||\n",
      "|| Process BAM file pseudoalignments.bam...                                   ||\n",
      "||    Single-end reads are included.                                          ||\n",
      "||    Total alignments : 1851                                                 ||\n",
      "||    Successfully assigned alignments : 1336 (72.2%)                         ||\n",
      "||    Running time : 0.01 minutes                                             ||\n",
      "||                                                                            ||\n",
      "|| Process BAM file pseudoalignments.bam...                                   ||\n",
      "||    Single-end reads are included.                                          ||\n",
      "||    Total alignments : 1928                                                 ||\n",
      "||    Successfully assigned alignments : 1477 (76.6%)                         ||\n",
      "||    Running time : 0.01 minutes                                             ||\n",
      "||                                                                            ||\n",
      "|| Process BAM file pseudoalignments.bam...                                   ||\n",
      "||    Single-end reads are included.                                          ||\n",
      "||    Total alignments : 1969                                                 ||\n",
      "||    Successfully assigned alignments : 1572 (79.8%)                         ||\n",
      "||    Running time : 0.01 minutes                                             ||\n",
      "||                                                                            ||\n",
      "|| Write the final count table.                                               ||\n",
      "|| Write the read assignment summary.                                         ||\n",
      "||                                                                            ||\n",
      "\\\\============================================================================//\n",
      "\n"
     ]
    }
   ],
   "source": [
    "%%sh\n",
    "Rscript featureCounts.R"
   ]
  },
  {
   "cell_type": "markdown",
   "id": "67a098e1",
   "metadata": {},
   "source": [
    "## The R script we just executed wrote our results to a csv file. The data we have been using is the shortened version of the fastq files, however we have included the results for the full data set. Let us view that data now. \n",
    "\n",
    "# Make sure that the \"counts.csv\" file from the class website is in the folder \"/home/{MIAMIID}/test/featureCounts/\". "
   ]
  },
  {
   "cell_type": "code",
   "execution_count": 8,
   "id": "75fd50f0",
   "metadata": {},
   "outputs": [
    {
     "name": "stdout",
     "output_type": "stream",
     "text": [
      "GeneID,SRR5017128,SRR5017132,SRR5017133,SRR5017135,SRR5017137,SRR5017138\n",
      "ENSMUSG00000102693,0,0,0,0,0,0\n",
      "ENSMUSG00000064842,0,0,0,0,0,0\n",
      "ENSMUSG00000051951,39,23,96,53,79,89\n",
      "ENSMUSG00000102851,0,0,0,0,0,0\n",
      "ENSMUSG00000103377,0,0,0,0,0,0\n",
      "ENSMUSG00000104017,0,0,0,0,0,0\n",
      "ENSMUSG00000103025,0,0,0,0,0,0\n",
      "ENSMUSG00000089699,0,0,0,0,0,0\n",
      "ENSMUSG00000103201,0,0,0,0,0,0\n",
      "ENSMUSG00000103147,0,1,2,0,0,1\n",
      "ENSMUSG00000103161,0,0,0,0,0,0\n",
      "ENSMUSG00000102331,0,0,0,0,0,0\n",
      "ENSMUSG00000102348,0,0,0,0,0,0\n",
      "ENSMUSG00000102592,0,0,0,0,0,0\n",
      "ENSMUSG00000088333,0,0,0,0,0,0\n",
      "ENSMUSG00000102343,0,0,0,0,0,0\n",
      "ENSMUSG00000025900,31,0,0,7,1,8\n",
      "ENSMUSG00000102948,0,0,0,0,0,0\n",
      "ENSMUSG00000104123,0,0,0,0,0,0\n"
     ]
    }
   ],
   "source": [
    "%%sh\n",
    "head -n 20 counts.csv"
   ]
  },
  {
   "cell_type": "markdown",
   "id": "cf84b65c",
   "metadata": {},
   "source": [
    "## From this data we can see that a lot of genes do not have a lot of expression counts. However, the ones that do have counts are all different across the different samples so we can do further analysis with DESeq2 in the next notebook to figure out how the gene expressions differ rather than just the counts that we got using Rsubread."
   ]
  }
 ],
 "metadata": {
  "kernelspec": {
   "display_name": "Python 3",
   "language": "python",
   "name": "python3"
  },
  "language_info": {
   "codemirror_mode": {
    "name": "ipython",
    "version": 3
   },
   "file_extension": ".py",
   "mimetype": "text/x-python",
   "name": "python",
   "nbconvert_exporter": "python",
   "pygments_lexer": "ipython3",
   "version": "3.7.1"
  }
 },
 "nbformat": 4,
 "nbformat_minor": 5
}
