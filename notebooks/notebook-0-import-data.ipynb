{
 "cells": [
  {
   "cell_type": "markdown",
   "metadata": {},
   "source": [
    "# Importing data from the NCBI Sequence Read Archive (SRA)"
   ]
  },
  {
   "cell_type": "markdown",
   "metadata": {
    "id": "Pi6cKbVSylvh"
   },
   "source": [
    "If not installed, we need to download the sratoolkit so that we can download and process sequences."
   ]
  },
  {
   "cell_type": "code",
   "execution_count": 1,
   "metadata": {},
   "outputs": [
    {
     "name": "stdout",
     "output_type": "stream",
     "text": [
      "schroe51\n"
     ]
    }
   ],
   "source": [
    "#!echo $USER\n",
    "MIAMIID = !echo $USER\n",
    "MIAMIID = str(MIAMIID)\n",
    "MIAMIID = MIAMIID[2:len(MIAMIID)-2]\n",
    "print(MIAMIID)"
   ]
  },
  {
   "cell_type": "markdown",
   "metadata": {},
   "source": [
    "## If running this on RedHawk, use this download link for the toolkit\n",
    "- https://ftp-trace.ncbi.nlm.nih.gov/sra/sdk/3.0.0/sratoolkit.3.0.0-centos_linux64.tar.gz"
   ]
  },
  {
   "cell_type": "code",
   "execution_count": 2,
   "metadata": {
    "colab": {
     "base_uri": "https://localhost:8080/"
    },
    "id": "hdibbC5XVAoX",
    "outputId": "e18406e2-161f-46f3-cf31-54aefc544b28",
    "scrolled": true
   },
   "outputs": [
    {
     "name": "stdout",
     "output_type": "stream",
     "text": [
      "/home/schroe51/software\n",
      "--2022-11-10 12:01:17--  https://ftp-trace.ncbi.nlm.nih.gov/sra/sdk/3.0.0/sratoolkit.3.0.0-centos_linux64.tar.gz\n",
      "Resolving ftp-trace.ncbi.nlm.nih.gov... 130.14.250.10, 130.14.250.11, 2607:f220:41e:250::13, ...\n",
      "Connecting to ftp-trace.ncbi.nlm.nih.gov|130.14.250.10|:443... connected.\n",
      "HTTP request sent, awaiting response... 200 OK\n",
      "Length: 85777281 (82M) [application/x-gzip]\n",
      "Saving to: ‘sratoolkit.3.0.0-centos_linux64.tar.gz’\n",
      "\n",
      "sratoolkit.3.0.0-ce 100%[===================>]  81.80M  83.8MB/s    in 1.0s    \n",
      "\n",
      "2022-11-10 12:01:19 (83.8 MB/s) - ‘sratoolkit.3.0.0-centos_linux64.tar.gz’ saved [85777281/85777281]\n",
      "\n"
     ]
    }
   ],
   "source": [
    "!mkdir -p /home/{MIAMIID}/software\n",
    "%cd /home/{MIAMIID}/software\n",
    "!wget https://ftp-trace.ncbi.nlm.nih.gov/sra/sdk/3.0.0/sratoolkit.3.0.0-centos_linux64.tar.gz"
   ]
  },
  {
   "cell_type": "markdown",
   "metadata": {
    "id": "z7mGZZ12y5hI"
   },
   "source": [
    "Now we unzip the archive to get the programs we need."
   ]
  },
  {
   "cell_type": "code",
   "execution_count": 3,
   "metadata": {
    "colab": {
     "base_uri": "https://localhost:8080/"
    },
    "id": "dUxlxnLPV9oP",
    "outputId": "db59e210-d783-4792-e630-bcc9ee0271c7",
    "scrolled": true
   },
   "outputs": [
    {
     "name": "stdout",
     "output_type": "stream",
     "text": [
      "sratoolkit.3.0.0-centos_linux64/\n",
      "sratoolkit.3.0.0-centos_linux64/bin/\n",
      "sratoolkit.3.0.0-centos_linux64/bin/abi-dump\n",
      "sratoolkit.3.0.0-centos_linux64/bin/abi-dump.3\n",
      "sratoolkit.3.0.0-centos_linux64/bin/abi-load\n",
      "sratoolkit.3.0.0-centos_linux64/bin/abi-load.3\n",
      "sratoolkit.3.0.0-centos_linux64/bin/align-info\n",
      "sratoolkit.3.0.0-centos_linux64/bin/align-info.3\n",
      "sratoolkit.3.0.0-centos_linux64/bin/bam-load\n",
      "sratoolkit.3.0.0-centos_linux64/bin/bam-load.3\n",
      "sratoolkit.3.0.0-centos_linux64/bin/cache-mgr\n",
      "sratoolkit.3.0.0-centos_linux64/bin/cache-mgr.3\n",
      "sratoolkit.3.0.0-centos_linux64/bin/cg-load\n",
      "sratoolkit.3.0.0-centos_linux64/bin/cg-load.3\n",
      "sratoolkit.3.0.0-centos_linux64/bin/dump-ref-fasta\n",
      "sratoolkit.3.0.0-centos_linux64/bin/dump-ref-fasta.3\n",
      "sratoolkit.3.0.0-centos_linux64/bin/fasterq-dump\n",
      "sratoolkit.3.0.0-centos_linux64/bin/fasterq-dump.3\n",
      "sratoolkit.3.0.0-centos_linux64/bin/fasterq-dump.3.0.0\n",
      "sratoolkit.3.0.0-centos_linux64/bin/fastq-dump\n",
      "sratoolkit.3.0.0-centos_linux64/bin/fastq-dump.3\n",
      "sratoolkit.3.0.0-centos_linux64/bin/fastq-dump.3.0.0\n",
      "sratoolkit.3.0.0-centos_linux64/bin/fastq-load\n",
      "sratoolkit.3.0.0-centos_linux64/bin/fastq-load.3\n",
      "sratoolkit.3.0.0-centos_linux64/bin/helicos-load\n",
      "sratoolkit.3.0.0-centos_linux64/bin/helicos-load.3\n",
      "sratoolkit.3.0.0-centos_linux64/bin/illumina-dump\n",
      "sratoolkit.3.0.0-centos_linux64/bin/illumina-dump.3\n",
      "sratoolkit.3.0.0-centos_linux64/bin/illumina-load\n",
      "sratoolkit.3.0.0-centos_linux64/bin/illumina-load.3\n",
      "sratoolkit.3.0.0-centos_linux64/bin/kar\n",
      "sratoolkit.3.0.0-centos_linux64/bin/kar.3\n",
      "sratoolkit.3.0.0-centos_linux64/bin/kdbmeta\n",
      "sratoolkit.3.0.0-centos_linux64/bin/kdbmeta.3\n",
      "sratoolkit.3.0.0-centos_linux64/bin/latf-load\n",
      "sratoolkit.3.0.0-centos_linux64/bin/latf-load.3\n",
      "sratoolkit.3.0.0-centos_linux64/bin/pacbio-load\n",
      "sratoolkit.3.0.0-centos_linux64/bin/pacbio-load.3\n",
      "sratoolkit.3.0.0-centos_linux64/bin/prefetch\n",
      "sratoolkit.3.0.0-centos_linux64/bin/prefetch.3\n",
      "sratoolkit.3.0.0-centos_linux64/bin/prefetch.3.0.0\n",
      "sratoolkit.3.0.0-centos_linux64/bin/rcexplain\n",
      "sratoolkit.3.0.0-centos_linux64/bin/rcexplain.3\n",
      "sratoolkit.3.0.0-centos_linux64/bin/sam-dump\n",
      "sratoolkit.3.0.0-centos_linux64/bin/sam-dump.3\n",
      "sratoolkit.3.0.0-centos_linux64/bin/sam-dump.3.0.0\n",
      "sratoolkit.3.0.0-centos_linux64/bin/sff-dump\n",
      "sratoolkit.3.0.0-centos_linux64/bin/sff-dump.3\n",
      "sratoolkit.3.0.0-centos_linux64/bin/sff-load\n",
      "sratoolkit.3.0.0-centos_linux64/bin/sff-load.3\n",
      "sratoolkit.3.0.0-centos_linux64/bin/sra-pileup\n",
      "sratoolkit.3.0.0-centos_linux64/bin/sra-pileup.3\n",
      "sratoolkit.3.0.0-centos_linux64/bin/sra-pileup.3.0.0\n",
      "sratoolkit.3.0.0-centos_linux64/bin/sra-search\n",
      "sratoolkit.3.0.0-centos_linux64/bin/sra-search.3\n",
      "sratoolkit.3.0.0-centos_linux64/bin/sra-sort\n",
      "sratoolkit.3.0.0-centos_linux64/bin/sra-sort-cg\n",
      "sratoolkit.3.0.0-centos_linux64/bin/sra-sort-cg.3\n",
      "sratoolkit.3.0.0-centos_linux64/bin/sra-sort.3\n",
      "sratoolkit.3.0.0-centos_linux64/bin/sra-stat\n",
      "sratoolkit.3.0.0-centos_linux64/bin/sra-stat.3\n",
      "sratoolkit.3.0.0-centos_linux64/bin/srapath\n",
      "sratoolkit.3.0.0-centos_linux64/bin/srapath.3\n",
      "sratoolkit.3.0.0-centos_linux64/bin/srapath.3.0.0\n",
      "sratoolkit.3.0.0-centos_linux64/bin/srf-load\n",
      "sratoolkit.3.0.0-centos_linux64/bin/srf-load.3\n",
      "sratoolkit.3.0.0-centos_linux64/bin/test-sra\n",
      "sratoolkit.3.0.0-centos_linux64/bin/test-sra.3\n",
      "sratoolkit.3.0.0-centos_linux64/bin/vdb-config\n",
      "sratoolkit.3.0.0-centos_linux64/bin/vdb-config.3\n",
      "sratoolkit.3.0.0-centos_linux64/bin/vdb-copy\n",
      "sratoolkit.3.0.0-centos_linux64/bin/vdb-copy.3\n",
      "sratoolkit.3.0.0-centos_linux64/bin/vdb-decrypt\n",
      "sratoolkit.3.0.0-centos_linux64/bin/vdb-decrypt.3\n",
      "sratoolkit.3.0.0-centos_linux64/bin/vdb-dump\n",
      "sratoolkit.3.0.0-centos_linux64/bin/vdb-dump.3\n",
      "sratoolkit.3.0.0-centos_linux64/bin/vdb-dump.3.0.0\n",
      "sratoolkit.3.0.0-centos_linux64/bin/vdb-encrypt\n",
      "sratoolkit.3.0.0-centos_linux64/bin/vdb-encrypt.3\n",
      "sratoolkit.3.0.0-centos_linux64/bin/vdb-lock\n",
      "sratoolkit.3.0.0-centos_linux64/bin/vdb-lock.3\n",
      "sratoolkit.3.0.0-centos_linux64/bin/vdb-unlock\n",
      "sratoolkit.3.0.0-centos_linux64/bin/vdb-unlock.3\n",
      "sratoolkit.3.0.0-centos_linux64/bin/vdb-validate\n",
      "sratoolkit.3.0.0-centos_linux64/bin/vdb-validate.3\n",
      "sratoolkit.3.0.0-centos_linux64/bin/ncbi/\n",
      "sratoolkit.3.0.0-centos_linux64/bin/ncbi/certs.kfg\n",
      "sratoolkit.3.0.0-centos_linux64/bin/ncbi/default.kfg\n",
      "sratoolkit.3.0.0-centos_linux64/bin/ncbi/vdb-copy.kfg\n",
      "sratoolkit.3.0.0-centos_linux64/bin/srapath-orig.3.0.0\n",
      "sratoolkit.3.0.0-centos_linux64/bin/sratools.3.0.0\n",
      "sratoolkit.3.0.0-centos_linux64/bin/srf-load.3.0.0\n",
      "sratoolkit.3.0.0-centos_linux64/bin/test-sra.3.0.0\n",
      "sratoolkit.3.0.0-centos_linux64/bin/vdb-config.3.0.0\n",
      "sratoolkit.3.0.0-centos_linux64/bin/vdb-copy.3.0.0\n",
      "sratoolkit.3.0.0-centos_linux64/bin/vdb-decrypt.3.0.0\n",
      "sratoolkit.3.0.0-centos_linux64/bin/vdb-dump-orig.3.0.0\n",
      "sratoolkit.3.0.0-centos_linux64/bin/vdb-encrypt.3.0.0\n",
      "sratoolkit.3.0.0-centos_linux64/bin/vdb-lock.3.0.0\n",
      "sratoolkit.3.0.0-centos_linux64/bin/vdb-unlock.3.0.0\n",
      "sratoolkit.3.0.0-centos_linux64/bin/vdb-validate.3.0.0\n",
      "sratoolkit.3.0.0-centos_linux64/bin/abi-dump.3.0.0\n",
      "sratoolkit.3.0.0-centos_linux64/bin/abi-load.3.0.0\n",
      "sratoolkit.3.0.0-centos_linux64/bin/align-info.3.0.0\n",
      "sratoolkit.3.0.0-centos_linux64/bin/bam-load.3.0.0\n",
      "sratoolkit.3.0.0-centos_linux64/bin/cache-mgr.3.0.0\n",
      "sratoolkit.3.0.0-centos_linux64/bin/cg-load.3.0.0\n",
      "sratoolkit.3.0.0-centos_linux64/bin/dump-ref-fasta.3.0.0\n",
      "sratoolkit.3.0.0-centos_linux64/bin/fasterq-dump-orig.3.0.0\n",
      "sratoolkit.3.0.0-centos_linux64/bin/fastq-dump-orig.3.0.0\n",
      "sratoolkit.3.0.0-centos_linux64/bin/fastq-load.3.0.0\n",
      "sratoolkit.3.0.0-centos_linux64/bin/helicos-load.3.0.0\n",
      "sratoolkit.3.0.0-centos_linux64/bin/illumina-dump.3.0.0\n",
      "sratoolkit.3.0.0-centos_linux64/bin/illumina-load.3.0.0\n",
      "sratoolkit.3.0.0-centos_linux64/bin/kar.3.0.0\n",
      "sratoolkit.3.0.0-centos_linux64/bin/kdbmeta.3.0.0\n",
      "sratoolkit.3.0.0-centos_linux64/bin/latf-load.3.0.0\n",
      "sratoolkit.3.0.0-centos_linux64/bin/pacbio-load.3.0.0\n",
      "sratoolkit.3.0.0-centos_linux64/bin/prefetch-orig.3.0.0\n",
      "sratoolkit.3.0.0-centos_linux64/bin/rcexplain.3.0.0\n",
      "sratoolkit.3.0.0-centos_linux64/bin/sam-dump-orig.3.0.0\n",
      "sratoolkit.3.0.0-centos_linux64/bin/sff-dump.3.0.0\n",
      "sratoolkit.3.0.0-centos_linux64/bin/sff-load.3.0.0\n",
      "sratoolkit.3.0.0-centos_linux64/bin/sra-pileup-orig.3.0.0\n",
      "sratoolkit.3.0.0-centos_linux64/bin/sra-search.3.0.0\n",
      "sratoolkit.3.0.0-centos_linux64/bin/sra-sort-cg.3.0.0\n",
      "sratoolkit.3.0.0-centos_linux64/bin/sra-sort.3.0.0\n",
      "sratoolkit.3.0.0-centos_linux64/bin/sra-stat.3.0.0\n",
      "sratoolkit.3.0.0-centos_linux64/example/\n",
      "sratoolkit.3.0.0-centos_linux64/example/perl/\n",
      "sratoolkit.3.0.0-centos_linux64/example/perl/base-stats.pl\n",
      "sratoolkit.3.0.0-centos_linux64/example/perl/dump-reference.pl\n",
      "sratoolkit.3.0.0-centos_linux64/example/perl/gene-lookup.pl\n",
      "sratoolkit.3.0.0-centos_linux64/example/perl/mismatch-stats.pl\n",
      "sratoolkit.3.0.0-centos_linux64/example/perl/quality-stats.pl\n",
      "sratoolkit.3.0.0-centos_linux64/example/perl/simplefastq.pl\n",
      "sratoolkit.3.0.0-centos_linux64/example/perl/splitfastq.pl\n",
      "sratoolkit.3.0.0-centos_linux64/README-blastn\n",
      "sratoolkit.3.0.0-centos_linux64/README-vdb-config\n",
      "sratoolkit.3.0.0-centos_linux64/schema/\n",
      "sratoolkit.3.0.0-centos_linux64/schema/align/\n",
      "sratoolkit.3.0.0-centos_linux64/schema/align/align.vschema\n",
      "sratoolkit.3.0.0-centos_linux64/schema/align/mate-cache.vschema\n",
      "sratoolkit.3.0.0-centos_linux64/schema/align/pileup-stats.vschema\n",
      "sratoolkit.3.0.0-centos_linux64/schema/align/qstat.vschema\n",
      "sratoolkit.3.0.0-centos_linux64/schema/align/refseq.vschema\n",
      "sratoolkit.3.0.0-centos_linux64/schema/align/seq.vschema\n",
      "sratoolkit.3.0.0-centos_linux64/schema/csra2/\n",
      "sratoolkit.3.0.0-centos_linux64/schema/csra2/csra2.vschema\n",
      "sratoolkit.3.0.0-centos_linux64/schema/csra2/read.vschema\n",
      "sratoolkit.3.0.0-centos_linux64/schema/csra2/reference.vschema\n",
      "sratoolkit.3.0.0-centos_linux64/schema/csra2/stats.vschema\n",
      "sratoolkit.3.0.0-centos_linux64/schema/insdc/\n",
      "sratoolkit.3.0.0-centos_linux64/schema/insdc/insdc.vschema\n",
      "sratoolkit.3.0.0-centos_linux64/schema/insdc/seq.vschema\n",
      "sratoolkit.3.0.0-centos_linux64/schema/insdc/sra.vschema\n",
      "sratoolkit.3.0.0-centos_linux64/schema/ncbi/\n",
      "sratoolkit.3.0.0-centos_linux64/schema/ncbi/clip.vschema\n",
      "sratoolkit.3.0.0-centos_linux64/schema/ncbi/ncbi.vschema\n",
      "sratoolkit.3.0.0-centos_linux64/schema/ncbi/pnbrdb.vschema\n",
      "sratoolkit.3.0.0-centos_linux64/schema/ncbi/seq-graph.vschema\n",
      "sratoolkit.3.0.0-centos_linux64/schema/ncbi/seq.vschema\n",
      "sratoolkit.3.0.0-centos_linux64/schema/ncbi/spotname.vschema\n",
      "sratoolkit.3.0.0-centos_linux64/schema/ncbi/sra.vschema\n",
      "sratoolkit.3.0.0-centos_linux64/schema/ncbi/stats.vschema\n",
      "sratoolkit.3.0.0-centos_linux64/schema/ncbi/trace.vschema\n",
      "sratoolkit.3.0.0-centos_linux64/schema/ncbi/varloc.vschema\n",
      "sratoolkit.3.0.0-centos_linux64/schema/ncbi/wgs-contig.vschema\n",
      "sratoolkit.3.0.0-centos_linux64/schema/sra/\n",
      "sratoolkit.3.0.0-centos_linux64/schema/sra/454.vschema\n",
      "sratoolkit.3.0.0-centos_linux64/schema/sra/abi.vschema\n",
      "sratoolkit.3.0.0-centos_linux64/schema/sra/generic-fastq.vschema\n",
      "sratoolkit.3.0.0-centos_linux64/schema/sra/helicos.vschema\n",
      "sratoolkit.3.0.0-centos_linux64/schema/sra/illumina.vschema\n",
      "sratoolkit.3.0.0-centos_linux64/schema/sra/ion-torrent.vschema\n",
      "sratoolkit.3.0.0-centos_linux64/schema/sra/nanopore.vschema\n",
      "sratoolkit.3.0.0-centos_linux64/schema/sra/pacbio.vschema\n"
     ]
    },
    {
     "name": "stdout",
     "output_type": "stream",
     "text": [
      "sratoolkit.3.0.0-centos_linux64/schema/sra/pevents.vschema\r\n",
      "sratoolkit.3.0.0-centos_linux64/schema/vdb/\r\n",
      "sratoolkit.3.0.0-centos_linux64/schema/vdb/built-in.vschema\r\n",
      "sratoolkit.3.0.0-centos_linux64/schema/vdb/vdb.vschema\r\n",
      "sratoolkit.3.0.0-centos_linux64/CHANGES\r\n",
      "sratoolkit.3.0.0-centos_linux64/README.md\r\n"
     ]
    }
   ],
   "source": [
    "!tar xvfz sratoolkit.3.0.0-centos_linux64.tar.gz"
   ]
  },
  {
   "cell_type": "markdown",
   "metadata": {},
   "source": [
    "## Now we need to configure the toolkit using this command in the terminal: \"./sratoolkit.3.0.0-centos_linux64/bin/vdb-config --interactive\"\n",
    "\n",
    "Then press f, y, and confirm the default values."
   ]
  },
  {
   "cell_type": "markdown",
   "metadata": {},
   "source": [
    "# IMPORTANT FOR REDHAWK\n",
    "## We need to add the toolkit to the path (cannot be in .bashrc or it will not allow you to login to the server)"
   ]
  },
  {
   "cell_type": "code",
   "execution_count": 2,
   "metadata": {},
   "outputs": [
    {
     "name": "stdout",
     "output_type": "stream",
     "text": [
      "/home/schroe51/software/sratoolkit.3.0.0-centos_linux64/bin:/home/schroe51/.local/bin:/software/python/anaconda3/condabin:/software/python/anaconda3/bin:/usr/local/bin:/usr/local/sbin:/opt/moab/bin:/usr/local/bin:/usr/local/sbin:/opt/moab/bin:/usr/local/sbin:/usr/local/bin:/usr/sbin:/usr/bin:/sbin:/bin:/bin:/usr/bin:/usr/X11R6/bin:/opt/puppetlabs/bin\n"
     ]
    }
   ],
   "source": [
    "curPath = %env PATH\n",
    "pathWithToolKit= \"/home/\" + MIAMIID + \"/software/sratoolkit.3.0.0-centos_linux64/bin:\" + curPath\n",
    "print(pathWithToolKit)"
   ]
  },
  {
   "cell_type": "code",
   "execution_count": 3,
   "metadata": {},
   "outputs": [],
   "source": [
    "import os\n",
    "os.environ['PATH'] = pathWithToolKit"
   ]
  },
  {
   "cell_type": "code",
   "execution_count": 4,
   "metadata": {},
   "outputs": [
    {
     "data": {
      "text/plain": [
       "'/home/schroe51/software/sratoolkit.3.0.0-centos_linux64/bin:/home/schroe51/.local/bin:/software/python/anaconda3/condabin:/software/python/anaconda3/bin:/usr/local/bin:/usr/local/sbin:/opt/moab/bin:/usr/local/bin:/usr/local/sbin:/opt/moab/bin:/usr/local/sbin:/usr/local/bin:/usr/sbin:/usr/bin:/sbin:/bin:/bin:/usr/bin:/usr/X11R6/bin:/opt/puppetlabs/bin'"
      ]
     },
     "execution_count": 4,
     "metadata": {},
     "output_type": "execute_result"
    }
   ],
   "source": [
    "%env PATH"
   ]
  },
  {
   "cell_type": "markdown",
   "metadata": {
    "id": "dM9RaLrUzEkr"
   },
   "source": [
    "Now we need to download sequences, in this example: PRJNA353374 from [SRA](https://www.ncbi.nlm.nih.gov/sra) (I am not sure how use wget to get the file as a result of hitting the button)"
   ]
  },
  {
   "cell_type": "code",
   "execution_count": 44,
   "metadata": {
    "colab": {
     "base_uri": "https://localhost:8080/"
    },
    "id": "r6qk1dPzM3In",
    "outputId": "371285bb-e221-454b-936c-245d6ce50ec4"
   },
   "outputs": [
    {
     "name": "stdout",
     "output_type": "stream",
     "text": [
      "/home/schroe51/test\n"
     ]
    }
   ],
   "source": [
    "%cd /home/{MIAMIID}/test/\n",
    "#!wget https://www.ncbi.nlm.nih.gov/Traces/study/?acc=SRP093363&o=acc_s%3Aa"
   ]
  },
  {
   "cell_type": "code",
   "execution_count": 3,
   "metadata": {
    "colab": {
     "base_uri": "https://localhost:8080/"
    },
    "id": "ybygUG5iWM1s",
    "outputId": "0d95acd5-cad4-41e1-d6dd-1992510c4902",
    "scrolled": false
   },
   "outputs": [
    {
     "name": "stdout",
     "output_type": "stream",
     "text": [
      "finalsamples.txt  notebooks  raw_data  SraRunTable.txt\r\n"
     ]
    }
   ],
   "source": [
    "!ls"
   ]
  },
  {
   "cell_type": "code",
   "execution_count": 4,
   "metadata": {
    "colab": {
     "base_uri": "https://localhost:8080/"
    },
    "id": "K0ObFZq1eNFT",
    "outputId": "dd376a4f-c174-41ea-aabc-b330e14bae5f",
    "scrolled": true
   },
   "outputs": [
    {
     "name": "stdout",
     "output_type": "stream",
     "text": [
      "Run,Assay Type,AvgSpotLen,Bases,BIOMATERIAL_PROVIDER,BioProject,BioSample,BioSampleModel,birth_date,birth_location,Bytes,Center Name,collected_by,Collection_Date,Consent,DATASTORE filetype,DATASTORE provider,DATASTORE region,death_date,dev_stage,Experiment,Genotype,geo_loc_name_country,geo_loc_name_country_continent,geo_loc_name,Instrument,Isolation_Source,Library Name,LibraryLayout,LibrarySelection,LibrarySource,Organism,Platform,ReleaseDate,Sample Name,SAMPLE_TYPE,sex,SRA Study,STRAIN,Tissue,Treatment,disease\r\n",
      "SRR5017128,RNA-Seq,101,4907774527,\"Dr. Suzana Savkovic: 1430 Tulane Ave.\\, SL-79\\, New Orleans LA\\, 70112\",PRJNA353374,SAMN06006155,Model organism or animal,4-Nov-14,Jackson Laboratory,3584726881,TULANE,\"Dr. Suzana Savkovic\\, Tulane University\",2015-07-01,public,\"sra,fastq\",s3,s3.us-east-1,1-Jul-15,Adult,SRX2345611,Wild-type,USA,North America,USA,Illumina HiSeq 2500,Vivarium,HFD Tumor 2,SINGLE,other,TRANSCRIPTOMIC,Mus musculus,ILLUMINA,2017-01-01T00:00:00Z,High-Fat Diet Tumor 2,Tissue Sample,male,SRP093363,C57BL/6,Colon,\"Mouse injected with 10 mg/1 kg AOM and had 3 separate\\, week long\\, cycles of 2.5% DSS H20 treatment within first two months of experiment. Also fed with 60% kcal high fat diet for 8 months/entirety of experiment.\",Obesity; Cancer\r\n",
      "SRR5017129,RNA-Seq,101,5143889196,\"Dr. Suzana Savkovic: 1430 Tulane Ave.\\, SL-79\\, New Orleans LA\\, 70112\",PRJNA353374,SAMN06006068,Model organism or animal,4-Nov-14,Jackson Laboratory,3811795673,TULANE,\"Dr. Suzana Savkovic\\, Tulane University\",2015-07-01,public,\"sra,fastq\",s3,s3.us-east-1,1-Jul-15,Adult,SRX2345612,Wild-type,USA,North America,USA,Illumina HiSeq 2500,Vivarium,RD Con 2,SINGLE,other,TRANSCRIPTOMIC,Mus musculus,ILLUMINA,2017-01-01T00:00:00Z,Regular Diet Control 2,Tissue Sample,male,SRP093363,C58BL/6,Colon,None,\r\n",
      "SRR5017130,RNA-Seq,101,4774580979,\"Dr. Suzana Savkovic: 1430 Tulane Ave.\\, SL-79\\, New Orleans LA\\, 70112\",PRJNA353374,SAMN06006115,Model organism or animal,4-Nov-14,Jackson Laboratory,3491847246,TULANE,\"Dr. Suzana Savkovic\\, Tulane University\",2015-07-01,public,\"sra,fastq\",s3,s3.us-east-1,1-Jul-15,Adult,SRX2345613,Wild-type,USA,North America,USA,Illumina HiSeq 2500,Vivarium,RD Tumor 3,SINGLE,other,TRANSCRIPTOMIC,Mus musculus,ILLUMINA,2017-01-01T00:00:00Z,Regular Diet Tumor 3,Tissue Sample,male,SRP093363,C57BL/6,Colon,\"Mouse injected with 10 mg/1 kg AOM and had 3 separate\\, week long\\, cycles of 2.5% DSS H20 treatment within first two months of experiment.\",Cancer\r\n"
     ]
    }
   ],
   "source": [
    "!head -n4 SraRunTable.txt"
   ]
  },
  {
   "cell_type": "markdown",
   "metadata": {
    "id": "PkVxDfyt7khP"
   },
   "source": [
    "Names of the Sequence sra files."
   ]
  },
  {
   "cell_type": "code",
   "execution_count": 5,
   "metadata": {
    "colab": {
     "base_uri": "https://localhost:8080/"
    },
    "id": "jwwiy3JD5Yja",
    "outputId": "111b79ad-4fa5-47d1-b8fc-2fa613035af9"
   },
   "outputs": [
    {
     "name": "stdout",
     "output_type": "stream",
     "text": [
      "Run\r\n",
      "SRR5017128\r\n",
      "SRR5017129\r\n",
      "SRR5017130\r\n",
      "SRR5017131\r\n",
      "SRR5017132\r\n",
      "SRR5017133\r\n",
      "SRR5017134\r\n",
      "SRR5017135\r\n",
      "SRR5017136\r\n",
      "SRR5017137\r\n",
      "SRR5017138\r\n",
      "SRR5017139\r\n"
     ]
    }
   ],
   "source": [
    "!cut -d',' -f1 SraRunTable.txt"
   ]
  },
  {
   "cell_type": "markdown",
   "metadata": {
    "id": "jGB-oCdM7sOO"
   },
   "source": [
    "Names and descriptions of the sra files."
   ]
  },
  {
   "cell_type": "code",
   "execution_count": 6,
   "metadata": {
    "colab": {
     "base_uri": "https://localhost:8080/"
    },
    "id": "te-qy7yK5jfZ",
    "outputId": "6daa5842-3979-495a-d9db-a86e2d6bb622"
   },
   "outputs": [
    {
     "name": "stdout",
     "output_type": "stream",
     "text": [
      "Run,Tissue\r\n",
      "SRR5017128,High-Fat Diet Tumor 2\r\n",
      "SRR5017129,Regular Diet Control 2\r\n",
      "SRR5017130,Regular Diet Tumor 3\r\n",
      "SRR5017131,Regular Diet Tumor 2\r\n",
      "SRR5017132,High-Fat Diet Tumor 1\r\n",
      "SRR5017133,High-Fat Diet Control 3\r\n",
      "SRR5017134,Regular Diet Tumor 1\r\n",
      "SRR5017135,High-Fat Diet Control 1\r\n",
      "SRR5017136,Regular Diet Control 3\r\n",
      "SRR5017137,High-Fat Diet Control 2\r\n",
      "SRR5017138,High-Fat Diet Tumor 3\r\n",
      "SRR5017139,Regular Diet Control 1\r\n"
     ]
    }
   ],
   "source": [
    "!cut -d',' -f1,40 SraRunTable.txt"
   ]
  },
  {
   "cell_type": "markdown",
   "metadata": {
    "id": "fD3DD7TJ8KPU"
   },
   "source": [
    "Now we can put these IDs in our own file to use for analysis."
   ]
  },
  {
   "cell_type": "code",
   "execution_count": 10,
   "metadata": {
    "id": "znt5PHDP8JrG"
   },
   "outputs": [],
   "source": [
    "!cut -d',' -f1,40 SraRunTable.txt|grep \"High-Fat Diet Control\"|cut -d',' -f1 >> finalsamples.txt"
   ]
  },
  {
   "cell_type": "code",
   "execution_count": 11,
   "metadata": {
    "id": "GDpWUJS9B28P"
   },
   "outputs": [],
   "source": [
    "!cut -d',' -f1,40 SraRunTable.txt|grep \"High-Fat Diet Tumor\"|cut -d',' -f1 >> finalsamples.txt"
   ]
  },
  {
   "cell_type": "markdown",
   "metadata": {
    "id": "mXswNtPLCPrl"
   },
   "source": [
    "# Now we have our list of high-fat diet mice sra IDs!"
   ]
  },
  {
   "cell_type": "code",
   "execution_count": 45,
   "metadata": {
    "colab": {
     "base_uri": "https://localhost:8080/"
    },
    "id": "IJ9Ew4guCJV2",
    "outputId": "bd6eda6f-d8ab-4171-c395-6bec5178e4e9"
   },
   "outputs": [
    {
     "name": "stdout",
     "output_type": "stream",
     "text": [
      "/home/schroe51/test\n",
      "SRR5017133\r\n",
      "SRR5017135\r\n",
      "SRR5017137\r\n",
      "SRR5017128\r\n",
      "SRR5017132\r\n",
      "SRR5017138\r\n"
     ]
    }
   ],
   "source": [
    "%cd /home/{MIAMIID}/test\n",
    "!cat finalsamples.txt"
   ]
  },
  {
   "cell_type": "markdown",
   "metadata": {
    "id": "R4TAH-TcGVtr"
   },
   "source": [
    "# Now we can use the SRA Toolkit to download the sra data! \n",
    "NOTE: THIS WILL TAKE A LONG TIME, THIS EXAMPLE IS 20GB OF DATA"
   ]
  },
  {
   "cell_type": "code",
   "execution_count": 13,
   "metadata": {},
   "outputs": [],
   "source": [
    "%mkdir -p /home/{MIAMIID}/test/raw_data"
   ]
  },
  {
   "cell_type": "code",
   "execution_count": 49,
   "metadata": {},
   "outputs": [
    {
     "name": "stdout",
     "output_type": "stream",
     "text": [
      "/home/schroe51/test/raw_data\n"
     ]
    }
   ],
   "source": [
    "%cd /home/{MIAMIID}/test/raw_data"
   ]
  },
  {
   "cell_type": "code",
   "execution_count": 50,
   "metadata": {
    "colab": {
     "base_uri": "https://localhost:8080/"
    },
    "id": "6l7JlrNSCXhp",
    "outputId": "23b0ca0b-b8d3-4a4e-da5e-ca322baf518f"
   },
   "outputs": [],
   "source": [
    "# You could create your own `finalsamples.txt` file \n",
    "# This file would be a list of SRA sample accessions \n",
    "# with one accession (e.g. SRS179109) per line \n",
    "# running this cell will allow you to do the SRA import\n",
    "\n",
    "sh = \"\"\"\n",
    "while read line; do prefetch $line ; done< /home/\"\"\" + MIAMIID + \"\"\"/test/finalsamples.txt\n",
    "\"\"\"\n",
    "with open('importSraData.sh', 'w') as file:\n",
    "  file.write(sh)"
   ]
  },
  {
   "cell_type": "code",
   "execution_count": 51,
   "metadata": {
    "scrolled": false
   },
   "outputs": [
    {
     "name": "stdout",
     "output_type": "stream",
     "text": [
      "raw_data contents:\n",
      "fastq\t\t  SRR5017128  SRR5017133  SRR5017137\n",
      "importSraData.sh  SRR5017132  SRR5017135  SRR5017138\n",
      "\n",
      "2022-11-15T17:24:12 prefetch.3.0.0: Current preference is set to retrieve SRA Normalized Format files with full base quality scores.\n",
      "2022-11-15T17:24:13 prefetch.3.0.0: 1) 'SRR5017133' is found locally\n",
      "\n",
      "2022-11-15T17:24:13 prefetch.3.0.0: Current preference is set to retrieve SRA Normalized Format files with full base quality scores.\n",
      "2022-11-15T17:24:13 prefetch.3.0.0: 1) 'SRR5017135' is found locally\n",
      "\n",
      "2022-11-15T17:24:15 prefetch.3.0.0: Current preference is set to retrieve SRA Normalized Format files with full base quality scores.\n",
      "2022-11-15T17:24:15 prefetch.3.0.0: 1) 'SRR5017137' is found locally\n",
      "\n",
      "2022-11-15T17:24:17 prefetch.3.0.0: Current preference is set to retrieve SRA Normalized Format files with full base quality scores.\n",
      "2022-11-15T17:24:17 prefetch.3.0.0: 1) 'SRR5017128' is found locally\n",
      "\n",
      "2022-11-15T17:24:20 prefetch.3.0.0: Current preference is set to retrieve SRA Normalized Format files with full base quality scores.\n",
      "2022-11-15T17:24:20 prefetch.3.0.0: 1) 'SRR5017132' is found locally\n",
      "\n",
      "2022-11-15T17:24:21 prefetch.3.0.0: Current preference is set to retrieve SRA Normalized Format files with full base quality scores.\n",
      "2022-11-15T17:24:21 prefetch.3.0.0: 1) 'SRR5017138' is found locally\n"
     ]
    }
   ],
   "source": [
    "print(\"raw_data contents:\")\n",
    "!ls\n",
    "!bash importSraData.sh"
   ]
  },
  {
   "cell_type": "code",
   "execution_count": 52,
   "metadata": {
    "id": "GbsTFtrWEQn7",
    "scrolled": false
   },
   "outputs": [
    {
     "name": "stdout",
     "output_type": "stream",
     "text": [
      "fastq\t\t  SRR5017128  SRR5017133  SRR5017137\r\n",
      "importSraData.sh  SRR5017132  SRR5017135  SRR5017138\r\n"
     ]
    }
   ],
   "source": [
    "!ls"
   ]
  },
  {
   "cell_type": "markdown",
   "metadata": {},
   "source": [
    "# We now have the raw data and now need to convert it to fastq format using parallel-fastq-dump"
   ]
  },
  {
   "cell_type": "markdown",
   "metadata": {},
   "source": [
    "# Important:\n",
    "\n",
    "You now need to download the parallel-fastq-dump package with the following command in the terminal:\n",
    "\n",
    "## pip install parallel-fastq-dump\n",
    "\n",
    "## Now we need to add the program to the path"
   ]
  },
  {
   "cell_type": "code",
   "execution_count": 5,
   "metadata": {},
   "outputs": [
    {
     "name": "stdout",
     "output_type": "stream",
     "text": [
      "/home/schroe51/.local/bin:/home/schroe51/software/sratoolkit.3.0.0-centos_linux64/bin:/home/schroe51/.local/bin:/software/python/anaconda3/condabin:/software/python/anaconda3/bin:/usr/local/bin:/usr/local/sbin:/opt/moab/bin:/usr/local/bin:/usr/local/sbin:/opt/moab/bin:/usr/local/sbin:/usr/local/bin:/usr/sbin:/usr/bin:/sbin:/bin:/bin:/usr/bin:/usr/X11R6/bin:/opt/puppetlabs/bin\n"
     ]
    }
   ],
   "source": [
    "curPath = %env PATH\n",
    "pathWithparallelfastq= \"/home/\" + MIAMIID + \"/.local/bin:\" + curPath\n",
    "print(pathWithparallelfastq)"
   ]
  },
  {
   "cell_type": "code",
   "execution_count": 6,
   "metadata": {},
   "outputs": [],
   "source": [
    "import os\n",
    "os.environ['PATH'] = pathWithparallelfastq"
   ]
  },
  {
   "cell_type": "code",
   "execution_count": 7,
   "metadata": {},
   "outputs": [
    {
     "data": {
      "text/plain": [
       "'/home/schroe51/.local/bin:/home/schroe51/software/sratoolkit.3.0.0-centos_linux64/bin:/home/schroe51/.local/bin:/software/python/anaconda3/condabin:/software/python/anaconda3/bin:/usr/local/bin:/usr/local/sbin:/opt/moab/bin:/usr/local/bin:/usr/local/sbin:/opt/moab/bin:/usr/local/sbin:/usr/local/bin:/usr/sbin:/usr/bin:/sbin:/bin:/bin:/usr/bin:/usr/X11R6/bin:/opt/puppetlabs/bin'"
      ]
     },
     "execution_count": 7,
     "metadata": {},
     "output_type": "execute_result"
    }
   ],
   "source": [
    "%env PATH"
   ]
  },
  {
   "cell_type": "code",
   "execution_count": 53,
   "metadata": {},
   "outputs": [
    {
     "name": "stdout",
     "output_type": "stream",
     "text": [
      "/home/schroe51/test/raw_data/fastq\n"
     ]
    }
   ],
   "source": [
    "!mkdir -p /home/{MIAMIID}/test/raw_data/fastq\n",
    "%cd /home/{MIAMIID}/test/raw_data/fastq"
   ]
  },
  {
   "cell_type": "code",
   "execution_count": 54,
   "metadata": {
    "scrolled": true
   },
   "outputs": [
    {
     "name": "stdout",
     "output_type": "stream",
     "text": [
      "24\n"
     ]
    }
   ],
   "source": [
    "import os\n",
    "numOfCPUs = len(os.sched_getaffinity(0))\n",
    "print(numOfCPUs)"
   ]
  },
  {
   "cell_type": "code",
   "execution_count": 55,
   "metadata": {},
   "outputs": [],
   "source": [
    "sh = \"\"\"\n",
    "while read line; do parallel-fastq-dump --sra-id $line --threads \"\"\"+str(numOfCPUs)+\"\"\" --outdir fastq --gzip ; done< /home/\"\"\"+MIAMIID+\"\"\"/test/finalsamples.txt\n",
    "\"\"\"\n",
    "with open('getFastqData.sh', 'w') as file:\n",
    "  file.write(sh)"
   ]
  },
  {
   "cell_type": "markdown",
   "metadata": {},
   "source": [
    "# IMPORTANT, THIS WILL TAKE A LONG TIME AND TAKE A LOT OF SPACE"
   ]
  },
  {
   "cell_type": "code",
   "execution_count": 56,
   "metadata": {
    "scrolled": true
   },
   "outputs": [
    {
     "name": "stdout",
     "output_type": "stream",
     "text": [
      "fastq contents:\n",
      "/home/schroe51/test/raw_data\n",
      "getFastqData.sh      SRR5017133.fastq.gz  SRR5017138.fastq.gz\n",
      "SRR5017128.fastq.gz  SRR5017135.fastq.gz\n",
      "SRR5017132.fastq.gz  SRR5017137.fastq.gz\n",
      "SRR ids: ['SRR5017133']\n",
      "extra args: ['--gzip']\n",
      "tempdir: /tmp/pfd_5t7ef2bk\n",
      "SRR5017133 spots: 55837914\n",
      "blocks: [[1, 2326579], [2326580, 4653158], [4653159, 6979737], [6979738, 9306316], [9306317, 11632895], [11632896, 13959474], [13959475, 16286053], [16286054, 18612632], [18612633, 20939211], [20939212, 23265790], [23265791, 25592369], [25592370, 27918948], [27918949, 30245527], [30245528, 32572106], [32572107, 34898685], [34898686, 37225264], [37225265, 39551843], [39551844, 41878422], [41878423, 44205001], [44205002, 46531580], [46531581, 48858159], [48858160, 51184738], [51184739, 53511317], [53511318, 55837914]]\n",
      "Read 2326579 spots for SRR5017133\n",
      "Written 2326579 spots for SRR5017133\n",
      "Read 2326579 spots for SRR5017133\n",
      "Written 2326579 spots for SRR5017133\n",
      "Read 2326579 spots for SRR5017133\n",
      "Written 2326579 spots for SRR5017133\n",
      "Read 2326579 spots for SRR5017133\n",
      "Written 2326579 spots for SRR5017133\n",
      "Read 2326579 spots for SRR5017133\n",
      "Written 2326579 spots for SRR5017133\n",
      "Read 2326579 spots for SRR5017133\n",
      "Written 2326579 spots for SRR5017133\n",
      "Read 2326579 spots for SRR5017133\n",
      "Written 2326579 spots for SRR5017133\n",
      "Read 2326579 spots for SRR5017133\n",
      "Written 2326579 spots for SRR5017133\n",
      "Read 2326597 spots for SRR5017133\n",
      "Written 2326597 spots for SRR5017133\n",
      "Read 2326579 spots for SRR5017133\n",
      "Written 2326579 spots for SRR5017133\n",
      "Read 2326579 spots for SRR5017133\n",
      "Written 2326579 spots for SRR5017133\n",
      "Read 2326579 spots for SRR5017133\n",
      "Written 2326579 spots for SRR5017133\n",
      "Read 2326579 spots for SRR5017133\n",
      "Written 2326579 spots for SRR5017133\n",
      "Read 2326579 spots for SRR5017133\n",
      "Written 2326579 spots for SRR5017133\n",
      "Read 2326579 spots for SRR5017133\n",
      "Written 2326579 spots for SRR5017133\n",
      "Read 2326579 spots for SRR5017133\n",
      "Written 2326579 spots for SRR5017133\n",
      "Read 2326579 spots for SRR5017133\n",
      "Written 2326579 spots for SRR5017133\n",
      "Read 2326579 spots for SRR5017133\n",
      "Written 2326579 spots for SRR5017133\n",
      "Read 2326579 spots for SRR5017133\n",
      "Written 2326579 spots for SRR5017133\n",
      "Read 2326579 spots for SRR5017133\n",
      "Written 2326579 spots for SRR5017133\n",
      "Read 2326579 spots for SRR5017133\n",
      "Written 2326579 spots for SRR5017133\n",
      "Read 2326579 spots for SRR5017133\n",
      "Written 2326579 spots for SRR5017133\n",
      "Read 2326579 spots for SRR5017133\n",
      "Written 2326579 spots for SRR5017133\n",
      "Read 2326579 spots for SRR5017133\n",
      "Written 2326579 spots for SRR5017133\n",
      "SRR ids: ['SRR5017135']\n",
      "extra args: ['--gzip']\n",
      "tempdir: /tmp/pfd_2f6_io65\n",
      "SRR5017135 spots: 38618203\n",
      "blocks: [[1, 1609091], [1609092, 3218182], [3218183, 4827273], [4827274, 6436364], [6436365, 8045455], [8045456, 9654546], [9654547, 11263637], [11263638, 12872728], [12872729, 14481819], [14481820, 16090910], [16090911, 17700001], [17700002, 19309092], [19309093, 20918183], [20918184, 22527274], [22527275, 24136365], [24136366, 25745456], [25745457, 27354547], [27354548, 28963638], [28963639, 30572729], [30572730, 32181820], [32181821, 33790911], [33790912, 35400002], [35400003, 37009093], [37009094, 38618203]]\n",
      "Read 1609091 spots for SRR5017135\n",
      "Written 1609091 spots for SRR5017135\n",
      "Read 1609091 spots for SRR5017135\n",
      "Written 1609091 spots for SRR5017135\n",
      "Read 1609091 spots for SRR5017135\n",
      "Written 1609091 spots for SRR5017135\n",
      "Read 1609091 spots for SRR5017135\n",
      "Written 1609091 spots for SRR5017135\n",
      "Read 1609091 spots for SRR5017135\n",
      "Written 1609091 spots for SRR5017135\n",
      "Read 1609091 spots for SRR5017135\n",
      "Written 1609091 spots for SRR5017135\n",
      "Read 1609091 spots for SRR5017135\n",
      "Written 1609091 spots for SRR5017135\n",
      "Read 1609091 spots for SRR5017135\n",
      "Written 1609091 spots for SRR5017135\n",
      "Read 1609091 spots for SRR5017135\n",
      "Written 1609091 spots for SRR5017135\n",
      "Read 1609091 spots for SRR5017135\n",
      "Written 1609091 spots for SRR5017135\n",
      "Read 1609091 spots for SRR5017135\n",
      "Written 1609091 spots for SRR5017135\n",
      "Read 1609091 spots for SRR5017135\n",
      "Written 1609091 spots for SRR5017135\n",
      "Read 1609110 spots for SRR5017135\n",
      "Written 1609110 spots for SRR5017135\n",
      "Read 1609091 spots for SRR5017135\n",
      "Written 1609091 spots for SRR5017135\n",
      "Read 1609091 spots for SRR5017135\n",
      "Written 1609091 spots for SRR5017135\n",
      "Read 1609091 spots for SRR5017135\n",
      "Written 1609091 spots for SRR5017135\n",
      "Read 1609091 spots for SRR5017135\n",
      "Written 1609091 spots for SRR5017135\n",
      "Read 1609091 spots for SRR5017135\n",
      "Written 1609091 spots for SRR5017135\n",
      "Read 1609091 spots for SRR5017135\n",
      "Written 1609091 spots for SRR5017135\n",
      "Read 1609091 spots for SRR5017135\n",
      "Written 1609091 spots for SRR5017135\n",
      "Read 1609091 spots for SRR5017135\n",
      "Written 1609091 spots for SRR5017135\n",
      "Read 1609091 spots for SRR5017135\n",
      "Written 1609091 spots for SRR5017135\n",
      "Read 1609091 spots for SRR5017135\n",
      "Written 1609091 spots for SRR5017135\n",
      "Read 1609091 spots for SRR5017135\n",
      "Written 1609091 spots for SRR5017135\n",
      "SRR ids: ['SRR5017137']\n",
      "extra args: ['--gzip']\n",
      "tempdir: /tmp/pfd_8bhzin37\n",
      "SRR5017137 spots: 52427951\n",
      "blocks: [[1, 2184497], [2184498, 4368994], [4368995, 6553491], [6553492, 8737988], [8737989, 10922485], [10922486, 13106982], [13106983, 15291479], [15291480, 17475976], [17475977, 19660473], [19660474, 21844970], [21844971, 24029467], [24029468, 26213964], [26213965, 28398461], [28398462, 30582958], [30582959, 32767455], [32767456, 34951952], [34951953, 37136449], [37136450, 39320946], [39320947, 41505443], [41505444, 43689940], [43689941, 45874437], [45874438, 48058934], [48058935, 50243431], [50243432, 52427951]]\n",
      "Read 2184497 spots for SRR5017137\n",
      "Written 2184497 spots for SRR5017137\n",
      "Read 2184497 spots for SRR5017137\n",
      "Written 2184497 spots for SRR5017137\n",
      "Read 2184497 spots for SRR5017137\n",
      "Written 2184497 spots for SRR5017137\n",
      "Read 2184497 spots for SRR5017137\n",
      "Written 2184497 spots for SRR5017137\n",
      "Read 2184497 spots for SRR5017137\n",
      "Written 2184497 spots for SRR5017137\n",
      "Read 2184497 spots for SRR5017137\n",
      "Written 2184497 spots for SRR5017137\n",
      "Read 2184497 spots for SRR5017137\n",
      "Written 2184497 spots for SRR5017137\n",
      "Read 2184497 spots for SRR5017137\n",
      "Written 2184497 spots for SRR5017137\n",
      "Read 2184497 spots for SRR5017137\n",
      "Written 2184497 spots for SRR5017137\n",
      "Read 2184497 spots for SRR5017137\n",
      "Written 2184497 spots for SRR5017137\n",
      "Read 2184520 spots for SRR5017137\n",
      "Written 2184520 spots for SRR5017137\n",
      "Read 2184497 spots for SRR5017137\n",
      "Written 2184497 spots for SRR5017137\n",
      "Read 2184497 spots for SRR5017137\n",
      "Written 2184497 spots for SRR5017137\n",
      "Read 2184497 spots for SRR5017137\n",
      "Written 2184497 spots for SRR5017137\n",
      "Read 2184497 spots for SRR5017137\n",
      "Written 2184497 spots for SRR5017137\n",
      "Read 2184497 spots for SRR5017137\n",
      "Written 2184497 spots for SRR5017137\n",
      "Read 2184497 spots for SRR5017137\n",
      "Written 2184497 spots for SRR5017137\n",
      "Read 2184497 spots for SRR5017137\n",
      "Written 2184497 spots for SRR5017137\n",
      "Read 2184497 spots for SRR5017137\n",
      "Written 2184497 spots for SRR5017137\n",
      "Read 2184497 spots for SRR5017137\n",
      "Written 2184497 spots for SRR5017137\n",
      "Read 2184497 spots for SRR5017137\n",
      "Written 2184497 spots for SRR5017137\n",
      "Read 2184497 spots for SRR5017137\n",
      "Written 2184497 spots for SRR5017137\n",
      "Read 2184497 spots for SRR5017137\n",
      "Written 2184497 spots for SRR5017137\n",
      "Read 2184497 spots for SRR5017137\n",
      "Written 2184497 spots for SRR5017137\n",
      "SRR ids: ['SRR5017128']\n",
      "extra args: ['--gzip']\n",
      "tempdir: /tmp/pfd_q3v1x87_\n",
      "SRR5017128 spots: 48591827\n",
      "blocks: [[1, 2024659], [2024660, 4049318], [4049319, 6073977], [6073978, 8098636], [8098637, 10123295], [10123296, 12147954], [12147955, 14172613], [14172614, 16197272], [16197273, 18221931], [18221932, 20246590], [20246591, 22271249], [22271250, 24295908], [24295909, 26320567], [26320568, 28345226], [28345227, 30369885], [30369886, 32394544], [32394545, 34419203], [34419204, 36443862], [36443863, 38468521], [38468522, 40493180], [40493181, 42517839], [42517840, 44542498], [44542499, 46567157], [46567158, 48591827]]\n",
      "Read 2024659 spots for SRR5017128\n",
      "Written 2024659 spots for SRR5017128\n",
      "Read 2024659 spots for SRR5017128\n",
      "Written 2024659 spots for SRR5017128\n",
      "Read 2024659 spots for SRR5017128\n",
      "Written 2024659 spots for SRR5017128\n",
      "Read 2024659 spots for SRR5017128\n",
      "Written 2024659 spots for SRR5017128\n",
      "Read 2024659 spots for SRR5017128\n",
      "Written 2024659 spots for SRR5017128\n",
      "Read 2024659 spots for SRR5017128\n",
      "Written 2024659 spots for SRR5017128\n",
      "Read 2024659 spots for SRR5017128\n",
      "Written 2024659 spots for SRR5017128\n"
     ]
    },
    {
     "name": "stdout",
     "output_type": "stream",
     "text": [
      "Read 2024659 spots for SRR5017128\n",
      "Written 2024659 spots for SRR5017128\n",
      "Read 2024659 spots for SRR5017128\n",
      "Written 2024659 spots for SRR5017128\n",
      "Read 2024659 spots for SRR5017128\n",
      "Written 2024659 spots for SRR5017128\n",
      "Read 2024659 spots for SRR5017128\n",
      "Written 2024659 spots for SRR5017128\n",
      "Read 2024659 spots for SRR5017128\n",
      "Written 2024659 spots for SRR5017128\n",
      "Read 2024659 spots for SRR5017128\n",
      "Written 2024659 spots for SRR5017128\n",
      "Read 2024659 spots for SRR5017128\n",
      "Written 2024659 spots for SRR5017128\n",
      "Read 2024659 spots for SRR5017128\n",
      "Written 2024659 spots for SRR5017128\n",
      "Read 2024659 spots for SRR5017128\n",
      "Written 2024659 spots for SRR5017128\n",
      "Read 2024659 spots for SRR5017128\n",
      "Written 2024659 spots for SRR5017128\n",
      "Read 2024670 spots for SRR5017128\n",
      "Written 2024670 spots for SRR5017128\n",
      "Read 2024659 spots for SRR5017128\n",
      "Written 2024659 spots for SRR5017128\n",
      "Read 2024659 spots for SRR5017128\n",
      "Written 2024659 spots for SRR5017128\n",
      "Read 2024659 spots for SRR5017128\n",
      "Written 2024659 spots for SRR5017128\n",
      "Read 2024659 spots for SRR5017128\n",
      "Written 2024659 spots for SRR5017128\n",
      "Read 2024659 spots for SRR5017128\n",
      "Written 2024659 spots for SRR5017128\n",
      "Read 2024659 spots for SRR5017128\n",
      "Written 2024659 spots for SRR5017128\n",
      "SRR ids: ['SRR5017132']\n",
      "extra args: ['--gzip']\n",
      "tempdir: /tmp/pfd_cwh55ezt\n",
      "SRR5017132 spots: 41792519\n",
      "blocks: [[1, 1741354], [1741355, 3482708], [3482709, 5224062], [5224063, 6965416], [6965417, 8706770], [8706771, 10448124], [10448125, 12189478], [12189479, 13930832], [13930833, 15672186], [15672187, 17413540], [17413541, 19154894], [19154895, 20896248], [20896249, 22637602], [22637603, 24378956], [24378957, 26120310], [26120311, 27861664], [27861665, 29603018], [29603019, 31344372], [31344373, 33085726], [33085727, 34827080], [34827081, 36568434], [36568435, 38309788], [38309789, 40051142], [40051143, 41792519]]\n",
      "Read 1741354 spots for SRR5017132\n",
      "Written 1741354 spots for SRR5017132\n",
      "Read 1741354 spots for SRR5017132\n",
      "Written 1741354 spots for SRR5017132\n",
      "Read 1741354 spots for SRR5017132\n",
      "Written 1741354 spots for SRR5017132\n",
      "Read 1741354 spots for SRR5017132\n",
      "Written 1741354 spots for SRR5017132\n",
      "Read 1741354 spots for SRR5017132\n",
      "Written 1741354 spots for SRR5017132\n",
      "Read 1741354 spots for SRR5017132\n",
      "Written 1741354 spots for SRR5017132\n",
      "Read 1741354 spots for SRR5017132\n",
      "Written 1741354 spots for SRR5017132\n",
      "Read 1741354 spots for SRR5017132\n",
      "Written 1741354 spots for SRR5017132\n",
      "Read 1741354 spots for SRR5017132\n",
      "Written 1741354 spots for SRR5017132\n",
      "Read 1741354 spots for SRR5017132\n",
      "Written 1741354 spots for SRR5017132\n",
      "Read 1741377 spots for SRR5017132\n",
      "Written 1741377 spots for SRR5017132\n",
      "Read 1741354 spots for SRR5017132\n",
      "Written 1741354 spots for SRR5017132\n",
      "Read 1741354 spots for SRR5017132\n",
      "Written 1741354 spots for SRR5017132\n",
      "Read 1741354 spots for SRR5017132\n",
      "Written 1741354 spots for SRR5017132\n",
      "Read 1741354 spots for SRR5017132\n",
      "Written 1741354 spots for SRR5017132\n",
      "Read 1741354 spots for SRR5017132\n",
      "Written 1741354 spots for SRR5017132\n",
      "Read 1741354 spots for SRR5017132\n",
      "Written 1741354 spots for SRR5017132\n",
      "Read 1741354 spots for SRR5017132\n",
      "Written 1741354 spots for SRR5017132\n",
      "Read 1741354 spots for SRR5017132\n",
      "Written 1741354 spots for SRR5017132\n",
      "Read 1741354 spots for SRR5017132\n",
      "Written 1741354 spots for SRR5017132\n",
      "Read 1741354 spots for SRR5017132\n",
      "Written 1741354 spots for SRR5017132\n",
      "Read 1741354 spots for SRR5017132\n",
      "Written 1741354 spots for SRR5017132\n",
      "Read 1741354 spots for SRR5017132\n",
      "Written 1741354 spots for SRR5017132\n",
      "Read 1741354 spots for SRR5017132\n",
      "Written 1741354 spots for SRR5017132\n",
      "SRR ids: ['SRR5017138']\n",
      "extra args: ['--gzip']\n",
      "tempdir: /tmp/pfd_vhyocp0l\n",
      "SRR5017138 spots: 45881517\n",
      "blocks: [[1, 1911729], [1911730, 3823458], [3823459, 5735187], [5735188, 7646916], [7646917, 9558645], [9558646, 11470374], [11470375, 13382103], [13382104, 15293832], [15293833, 17205561], [17205562, 19117290], [19117291, 21029019], [21029020, 22940748], [22940749, 24852477], [24852478, 26764206], [26764207, 28675935], [28675936, 30587664], [30587665, 32499393], [32499394, 34411122], [34411123, 36322851], [36322852, 38234580], [38234581, 40146309], [40146310, 42058038], [42058039, 43969767], [43969768, 45881517]]\n",
      "Read 1911729 spots for SRR5017138\n",
      "Written 1911729 spots for SRR5017138\n",
      "Read 1911729 spots for SRR5017138\n",
      "Written 1911729 spots for SRR5017138\n",
      "Read 1911729 spots for SRR5017138\n",
      "Written 1911729 spots for SRR5017138\n",
      "Read 1911729 spots for SRR5017138\n",
      "Written 1911729 spots for SRR5017138\n",
      "Read 1911729 spots for SRR5017138\n",
      "Written 1911729 spots for SRR5017138\n",
      "Read 1911729 spots for SRR5017138\n",
      "Written 1911729 spots for SRR5017138\n",
      "Read 1911750 spots for SRR5017138\n",
      "Written 1911750 spots for SRR5017138\n",
      "Read 1911729 spots for SRR5017138\n",
      "Written 1911729 spots for SRR5017138\n",
      "Read 1911729 spots for SRR5017138\n",
      "Written 1911729 spots for SRR5017138\n",
      "Read 1911729 spots for SRR5017138\n",
      "Written 1911729 spots for SRR5017138\n",
      "Read 1911729 spots for SRR5017138\n",
      "Written 1911729 spots for SRR5017138\n",
      "Read 1911729 spots for SRR5017138\n",
      "Written 1911729 spots for SRR5017138\n",
      "Read 1911729 spots for SRR5017138\n",
      "Written 1911729 spots for SRR5017138\n",
      "Read 1911729 spots for SRR5017138\n",
      "Written 1911729 spots for SRR5017138\n",
      "Read 1911729 spots for SRR5017138\n",
      "Written 1911729 spots for SRR5017138\n",
      "Read 1911729 spots for SRR5017138\n",
      "Written 1911729 spots for SRR5017138\n",
      "Read 1911729 spots for SRR5017138\n",
      "Written 1911729 spots for SRR5017138\n",
      "Read 1911729 spots for SRR5017138\n",
      "Written 1911729 spots for SRR5017138\n",
      "Read 1911729 spots for SRR5017138\n",
      "Written 1911729 spots for SRR5017138\n",
      "Read 1911729 spots for SRR5017138\n",
      "Written 1911729 spots for SRR5017138\n",
      "Read 1911729 spots for SRR5017138\n",
      "Written 1911729 spots for SRR5017138\n",
      "Read 1911729 spots for SRR5017138\n",
      "Written 1911729 spots for SRR5017138\n",
      "Read 1911729 spots for SRR5017138\n",
      "Written 1911729 spots for SRR5017138\n",
      "Read 1911729 spots for SRR5017138\n",
      "Written 1911729 spots for SRR5017138\n"
     ]
    }
   ],
   "source": [
    "print(\"fastq contents:\")\n",
    "%cd /home/{MIAMIID}/test/raw_data\n",
    "!ls fastq\n",
    "!bash fastq/getFastqData.sh"
   ]
  },
  {
   "cell_type": "code",
   "execution_count": 57,
   "metadata": {
    "scrolled": true
   },
   "outputs": [
    {
     "name": "stdout",
     "output_type": "stream",
     "text": [
      "/home/schroe51/test/raw_data/fastq\n",
      "getFastqData.sh      SRR5017133.fastq.gz  SRR5017138.fastq.gz\r\n",
      "SRR5017128.fastq.gz  SRR5017135.fastq.gz\r\n",
      "SRR5017132.fastq.gz  SRR5017137.fastq.gz\r\n"
     ]
    }
   ],
   "source": [
    "%cd /home/{MIAMIID}/test/raw_data/fastq/\n",
    "!ls"
   ]
  },
  {
   "cell_type": "markdown",
   "metadata": {},
   "source": [
    "# Now that the data is imported in fastq format, we do not need the raw_data SRA folders anymore, they take up a lot of space that we need to carefully manage."
   ]
  },
  {
   "cell_type": "code",
   "execution_count": 24,
   "metadata": {},
   "outputs": [
    {
     "name": "stdout",
     "output_type": "stream",
     "text": [
      "/home/schroe51/test/raw_data\n",
      "fastq\t\t  SRR5017128  SRR5017133  SRR5017137\r\n",
      "importSraData.sh  SRR5017132  SRR5017135  SRR5017138\r\n"
     ]
    },
    {
     "name": "stderr",
     "output_type": "stream",
     "text": [
      "UsageError: Line magic function `%find` not found.\n"
     ]
    }
   ],
   "source": [
    "%cd /home/{MIAMIID}/test/raw_data\n",
    "\n",
    "!ls\n",
    "%find . -type d -name 'SRR*' -exec rm -r {} +\n",
    "!echo \"After removing: \"\n",
    "!ls"
   ]
  },
  {
   "cell_type": "markdown",
   "metadata": {},
   "source": [
    "# Now we should have plenty of space for the rest of the analysis!"
   ]
  }
 ],
 "metadata": {
  "colab": {
   "collapsed_sections": [],
   "provenance": []
  },
  "kernelspec": {
   "display_name": "Python 3",
   "language": "python",
   "name": "python3"
  },
  "language_info": {
   "codemirror_mode": {
    "name": "ipython",
    "version": 3
   },
   "file_extension": ".py",
   "mimetype": "text/x-python",
   "name": "python",
   "nbconvert_exporter": "python",
   "pygments_lexer": "ipython3",
   "version": "3.10.9"
  },
  "vscode": {
   "interpreter": {
    "hash": "b0fa6594d8f4cbf19f97940f81e996739fb7646882a419484c72d19e05852a7e"
   }
  }
 },
 "nbformat": 4,
 "nbformat_minor": 1
}
