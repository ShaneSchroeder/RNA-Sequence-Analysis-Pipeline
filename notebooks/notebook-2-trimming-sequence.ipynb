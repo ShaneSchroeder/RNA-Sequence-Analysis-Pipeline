{
 "cells": [
  {
   "cell_type": "markdown",
   "id": "e14b9e05",
   "metadata": {},
   "source": [
    "# Trimming Bad Data"
   ]
  },
  {
   "cell_type": "markdown",
   "id": "6f97c47d",
   "metadata": {},
   "source": [
    "We are now going to trim data from the sequences that are of bad quality using a program called \"Trimmomatic\"\n",
    "\n",
    "An example use of this program loos like this\n",
    "\n",
    "## TrimmomaticSE small.fastq.gz small_trimmed -threads 8 SLIDINGWINDOW:4:20 MINLEN:75"
   ]
  },
  {
   "cell_type": "code",
   "execution_count": 3,
   "id": "1a6aa4b8",
   "metadata": {},
   "outputs": [
    {
     "name": "stdout",
     "output_type": "stream",
     "text": [
      "schroe51\n"
     ]
    }
   ],
   "source": [
    "MIAMIID = !echo $USER\n",
    "MIAMIID = str(MIAMIID)\n",
    "MIAMIID = MIAMIID[2:len(MIAMIID)-2]\n",
    "print(MIAMIID)"
   ]
  },
  {
   "cell_type": "markdown",
   "id": "fa96fc3c",
   "metadata": {},
   "source": [
    "# Important:\n",
    "\n",
    "We now need to install trimmomatic using the following commands in the terminal:\n",
    "\n",
    "First, we will download the zip file containing the .jar file."
   ]
  },
  {
   "cell_type": "code",
   "execution_count": 5,
   "id": "22de26bd",
   "metadata": {},
   "outputs": [
    {
     "name": "stdout",
     "output_type": "stream",
     "text": [
      "/home/schroe51/software\n",
      "--2022-11-17 11:34:11--  http://www.usadellab.org/cms/uploads/supplementary/Trimmomatic/Trimmomatic-0.36.zip\n",
      "Resolving www.usadellab.org... 199.195.140.36\n",
      "Connecting to www.usadellab.org|199.195.140.36|:80... connected.\n",
      "HTTP request sent, awaiting response... 200 OK\n",
      "Length: 131275 (128K) [application/zip]\n",
      "Saving to: ‘Trimmomatic-0.36.zip’\n",
      "\n",
      "Trimmomatic-0.36.zi 100%[===================>] 128.20K   366KB/s    in 0.4s    \n",
      "\n",
      "2022-11-17 11:34:12 (366 KB/s) - ‘Trimmomatic-0.36.zip’ saved [131275/131275]\n",
      "\n"
     ]
    }
   ],
   "source": [
    "%cd /home/{MIAMIID}/software\n",
    "!wget http://www.usadellab.org/cms/uploads/supplementary/Trimmomatic/Trimmomatic-0.36.zip"
   ]
  },
  {
   "cell_type": "markdown",
   "id": "4aa3a5d7",
   "metadata": {},
   "source": [
    "Now we will unzip and remove the original zip file:"
   ]
  },
  {
   "cell_type": "code",
   "execution_count": 6,
   "id": "3acd461d",
   "metadata": {},
   "outputs": [
    {
     "name": "stdout",
     "output_type": "stream",
     "text": [
      "Archive:  Trimmomatic-0.36.zip\n",
      "   creating: Trimmomatic-0.36/\n",
      "  inflating: Trimmomatic-0.36/LICENSE  \n",
      "  inflating: Trimmomatic-0.36/trimmomatic-0.36.jar  \n",
      "   creating: Trimmomatic-0.36/adapters/\n",
      "  inflating: Trimmomatic-0.36/adapters/NexteraPE-PE.fa  \n",
      "  inflating: Trimmomatic-0.36/adapters/TruSeq2-PE.fa  \n",
      "  inflating: Trimmomatic-0.36/adapters/TruSeq2-SE.fa  \n",
      "  inflating: Trimmomatic-0.36/adapters/TruSeq3-PE-2.fa  \n",
      "  inflating: Trimmomatic-0.36/adapters/TruSeq3-PE.fa  \n",
      "  inflating: Trimmomatic-0.36/adapters/TruSeq3-SE.fa  \n",
      "FastQC\tsratoolkit.3.0.0-centos_linux64  Trimmomatic-0.36\n"
     ]
    }
   ],
   "source": [
    "!unzip Trimmomatic-0.36.zip\n",
    "!rm Trimmomatic-0.36.zip\n",
    "!ls"
   ]
  },
  {
   "cell_type": "markdown",
   "id": "f883fecf",
   "metadata": {},
   "source": [
    "## Now we will run Trimmomatic on SRR5017135 so we can obtain a higher quality version of the sequences in the file."
   ]
  },
  {
   "cell_type": "code",
   "execution_count": 8,
   "id": "67a2ea57",
   "metadata": {},
   "outputs": [
    {
     "name": "stdout",
     "output_type": "stream",
     "text": [
      "/home/schroe51/test/raw_data/fastq\n",
      "getFastqData.sh      SRR5017133.fastq.gz  SRR5017138.fastq.gz\r\n",
      "SRR5017128.fastq.gz  SRR5017135.fastq.gz\r\n",
      "SRR5017132.fastq.gz  SRR5017137.fastq.gz\r\n"
     ]
    }
   ],
   "source": [
    "%cd /home/{MIAMIID}/test/raw_data/fastq/\n",
    "!ls"
   ]
  },
  {
   "cell_type": "code",
   "execution_count": 7,
   "id": "858e1708",
   "metadata": {},
   "outputs": [
    {
     "name": "stdout",
     "output_type": "stream",
     "text": [
      "24\n"
     ]
    }
   ],
   "source": [
    "import os\n",
    "numOfCPUs = len(os.sched_getaffinity(0))\n",
    "print(numOfCPUs)"
   ]
  },
  {
   "cell_type": "code",
   "execution_count": 10,
   "id": "0aaa555b",
   "metadata": {
    "scrolled": false
   },
   "outputs": [
    {
     "name": "stdout",
     "output_type": "stream",
     "text": [
      "TrimmomaticSE: Started with arguments:\n",
      " SRR5017135.fastq.gz SRR5017135_trimmed.fastq.gz -threads 24 SLIDINGWINDOW:4:20 MINLEN:75\n",
      "Quality encoding detected as phred33\n",
      "Input Reads: 38618203 Surviving: 32866883 (85.11%) Dropped: 5751320 (14.89%)\n",
      "TrimmomaticSE: Completed successfully\n"
     ]
    }
   ],
   "source": [
    "!java -jar /home/{MIAMIID}/software/Trimmomatic-0.36/trimmomatic-0.36.jar SE SRR5017135.fastq.gz SRR5017135_trimmed.fastq.gz -threads {numOfCPUs} SLIDINGWINDOW:4:20 MINLEN:75"
   ]
  },
  {
   "cell_type": "code",
   "execution_count": 11,
   "id": "f162f4c5",
   "metadata": {},
   "outputs": [
    {
     "name": "stdout",
     "output_type": "stream",
     "text": [
      "SRR5017135_trimmed.fastq.gz\r\n"
     ]
    }
   ],
   "source": [
    "!ls *_trimmed.fastq.gz"
   ]
  },
  {
   "cell_type": "code",
   "execution_count": 12,
   "id": "685dee8d",
   "metadata": {},
   "outputs": [],
   "source": [
    "%mkdir -p /home/{MIAMIID}/test/trimmed_reads\n",
    "%mv *_trimmed.fastq.gz /home/{MIAMIID}/test/trimmed_reads"
   ]
  },
  {
   "cell_type": "code",
   "execution_count": 13,
   "id": "ba745856",
   "metadata": {},
   "outputs": [
    {
     "name": "stdout",
     "output_type": "stream",
     "text": [
      "/home/schroe51/test/trimmed_reads\n",
      "SRR5017135_trimmed.fastq.gz\r\n"
     ]
    }
   ],
   "source": [
    "%cd /home/{MIAMIID}/test/trimmed_reads\n",
    "!ls"
   ]
  },
  {
   "cell_type": "markdown",
   "id": "1553760d",
   "metadata": {},
   "source": [
    "## We can now use fastqc on the trimmed sequence to see if the overall quality is improved.\n",
    "\n",
    "Please make sure that \"/home/{MIAMIID}/software/FastQC/\" is on the PATH, if NOT run the following commands:"
   ]
  },
  {
   "cell_type": "code",
   "execution_count": 15,
   "id": "64fd8a20",
   "metadata": {},
   "outputs": [
    {
     "data": {
      "text/plain": [
       "'/home/schroe51/.local/bin:/software/python/anaconda3/condabin:/software/python/anaconda3/bin:/usr/local/bin:/usr/local/sbin:/opt/moab/bin:/usr/local/bin:/usr/local/sbin:/opt/moab/bin:/usr/local/sbin:/usr/local/bin:/usr/sbin:/usr/bin:/sbin:/bin:/bin:/usr/bin:/usr/X11R6/bin:/opt/puppetlabs/bin'"
      ]
     },
     "execution_count": 15,
     "metadata": {},
     "output_type": "execute_result"
    }
   ],
   "source": [
    "%env PATH"
   ]
  },
  {
   "cell_type": "code",
   "execution_count": 16,
   "id": "bf10d951",
   "metadata": {
    "scrolled": false
   },
   "outputs": [
    {
     "name": "stdout",
     "output_type": "stream",
     "text": [
      "/home/schroe51/software/FastQC/:/home/schroe51/.local/bin:/software/python/anaconda3/condabin:/software/python/anaconda3/bin:/usr/local/bin:/usr/local/sbin:/opt/moab/bin:/usr/local/bin:/usr/local/sbin:/opt/moab/bin:/usr/local/sbin:/usr/local/bin:/usr/sbin:/usr/bin:/sbin:/bin:/bin:/usr/bin:/usr/X11R6/bin:/opt/puppetlabs/bin\n"
     ]
    }
   ],
   "source": [
    "curPath = %env PATH\n",
    "pathWithFastQC = \"/home/\" + MIAMIID + \"/software/FastQC/:\" + curPath\n",
    "print(pathWithFastQC)"
   ]
  },
  {
   "cell_type": "code",
   "execution_count": 17,
   "id": "55f63fcd",
   "metadata": {},
   "outputs": [],
   "source": [
    "import os\n",
    "os.environ['PATH'] = pathWithFastQC"
   ]
  },
  {
   "cell_type": "code",
   "execution_count": 19,
   "id": "f27408a4",
   "metadata": {
    "scrolled": false
   },
   "outputs": [
    {
     "name": "stdout",
     "output_type": "stream",
     "text": [
      "Analysis complete for SRR5017135_trimmed.fastq.gz\n"
     ]
    },
    {
     "name": "stderr",
     "output_type": "stream",
     "text": [
      "Started analysis of SRR5017135_trimmed.fastq.gz\n",
      "Approx 5% complete for SRR5017135_trimmed.fastq.gz\n",
      "Approx 10% complete for SRR5017135_trimmed.fastq.gz\n",
      "Approx 15% complete for SRR5017135_trimmed.fastq.gz\n",
      "Approx 20% complete for SRR5017135_trimmed.fastq.gz\n",
      "Approx 25% complete for SRR5017135_trimmed.fastq.gz\n",
      "Approx 30% complete for SRR5017135_trimmed.fastq.gz\n",
      "Approx 35% complete for SRR5017135_trimmed.fastq.gz\n",
      "Approx 40% complete for SRR5017135_trimmed.fastq.gz\n",
      "Approx 45% complete for SRR5017135_trimmed.fastq.gz\n",
      "Approx 50% complete for SRR5017135_trimmed.fastq.gz\n",
      "Approx 55% complete for SRR5017135_trimmed.fastq.gz\n",
      "Approx 60% complete for SRR5017135_trimmed.fastq.gz\n",
      "Approx 65% complete for SRR5017135_trimmed.fastq.gz\n",
      "Approx 70% complete for SRR5017135_trimmed.fastq.gz\n",
      "Approx 75% complete for SRR5017135_trimmed.fastq.gz\n",
      "Approx 80% complete for SRR5017135_trimmed.fastq.gz\n",
      "Approx 85% complete for SRR5017135_trimmed.fastq.gz\n",
      "Approx 90% complete for SRR5017135_trimmed.fastq.gz\n",
      "Approx 95% complete for SRR5017135_trimmed.fastq.gz\n"
     ]
    }
   ],
   "source": [
    "%%sh\n",
    "fastqc SRR5017135_trimmed.fastq.gz"
   ]
  },
  {
   "cell_type": "code",
   "execution_count": 21,
   "id": "c9f06e99",
   "metadata": {},
   "outputs": [],
   "source": [
    "%mkdir -p /home/{MIAMIID}/test/trimmed_reads/fastqc_trimmed_results\n",
    "%mv /home/{MIAMIID}/test/trimmed_reads/*.html /home/{MIAMIID}/test/trimmed_reads/fastqc_trimmed_results\n",
    "%mv /home/{MIAMIID}/test/trimmed_reads/*.zip /home/{MIAMIID}/test/trimmed_reads/fastqc_trimmed_results"
   ]
  },
  {
   "cell_type": "markdown",
   "id": "f81c3dcc",
   "metadata": {},
   "source": [
    "### Now you can compare the results between the untrimmed and trimmed data quality by viewing the html files in the \"/home/{MIAMIID}/test/trimmed_reads/fastqc_trimmed_results\" folder"
   ]
  },
  {
   "cell_type": "markdown",
   "id": "dfd909db",
   "metadata": {},
   "source": [
    "# We can process all of the files with trimmomatic using the following script: \n",
    "\n",
    "### This will take a considerable amount of time (~1 hr+, depending on CPU resources)"
   ]
  },
  {
   "cell_type": "code",
   "execution_count": 28,
   "id": "912e202f",
   "metadata": {},
   "outputs": [
    {
     "name": "stdout",
     "output_type": "stream",
     "text": [
      "/home/schroe51/test/raw_data/fastq\n"
     ]
    }
   ],
   "source": [
    "%cd /home/{MIAMIID}/test/raw_data/fastq"
   ]
  },
  {
   "cell_type": "code",
   "execution_count": 29,
   "id": "7ffb761a",
   "metadata": {},
   "outputs": [],
   "source": [
    "sh = \"\"\"\n",
    "for infile in /home/\"\"\" + MIAMIID + \"\"\"/test/raw_data/fastq/*.fastq.gz\n",
    " do\n",
    " base=$(basename --suffix=.fastq.gz $infile)\n",
    " java -jar /home/\"\"\" + MIAMIID + \"\"\"/software/Trimmomatic-0.36/trimmomatic-0.36.jar SE \\\n",
    "  -threads \"\"\" + str(numOfCPUs) + \"\"\" \\\n",
    "  ${infile} ${base}_trimmed.fastq.gz \\\n",
    "  SLIDINGWINDOW:4:20 MINLEN:75\n",
    " done\n",
    "\"\"\"\n",
    "with open('trimFastq.sh', 'w') as file:\n",
    "  file.write(sh)"
   ]
  },
  {
   "cell_type": "code",
   "execution_count": 30,
   "id": "6f5942c9",
   "metadata": {},
   "outputs": [
    {
     "name": "stdout",
     "output_type": "stream",
     "text": [
      "TrimmomaticSE: Started with arguments:\n",
      " -threads 24 /home/schroe51/test/raw_data/fastq/SRR5017128.fastq.gz SRR5017128_trimmed.fastq.gz SLIDINGWINDOW:4:20 MINLEN:75\n",
      "Quality encoding detected as phred33\n",
      "Input Reads: 48591827 Surviving: 41112323 (84.61%) Dropped: 7479504 (15.39%)\n",
      "TrimmomaticSE: Completed successfully\n",
      "TrimmomaticSE: Started with arguments:\n",
      " -threads 24 /home/schroe51/test/raw_data/fastq/SRR5017132.fastq.gz SRR5017132_trimmed.fastq.gz SLIDINGWINDOW:4:20 MINLEN:75\n",
      "Quality encoding detected as phred33\n",
      "Input Reads: 41792519 Surviving: 34362006 (82.22%) Dropped: 7430513 (17.78%)\n",
      "TrimmomaticSE: Completed successfully\n",
      "TrimmomaticSE: Started with arguments:\n",
      " -threads 24 /home/schroe51/test/raw_data/fastq/SRR5017133.fastq.gz SRR5017133_trimmed.fastq.gz SLIDINGWINDOW:4:20 MINLEN:75\n",
      "Quality encoding detected as phred33\n",
      "Input Reads: 55837914 Surviving: 47533279 (85.13%) Dropped: 8304635 (14.87%)\n",
      "TrimmomaticSE: Completed successfully\n",
      "TrimmomaticSE: Started with arguments:\n",
      " -threads 24 /home/schroe51/test/raw_data/fastq/SRR5017135.fastq.gz SRR5017135_trimmed.fastq.gz SLIDINGWINDOW:4:20 MINLEN:75\n",
      "Quality encoding detected as phred33\n",
      "Input Reads: 38618203 Surviving: 32866883 (85.11%) Dropped: 5751320 (14.89%)\n",
      "TrimmomaticSE: Completed successfully\n",
      "TrimmomaticSE: Started with arguments:\n",
      " -threads 24 /home/schroe51/test/raw_data/fastq/SRR5017137.fastq.gz SRR5017137_trimmed.fastq.gz SLIDINGWINDOW:4:20 MINLEN:75\n",
      "Quality encoding detected as phred33\n",
      "Input Reads: 52427951 Surviving: 44864057 (85.57%) Dropped: 7563894 (14.43%)\n",
      "TrimmomaticSE: Completed successfully\n",
      "TrimmomaticSE: Started with arguments:\n",
      " -threads 24 /home/schroe51/test/raw_data/fastq/SRR5017138.fastq.gz SRR5017138_trimmed.fastq.gz SLIDINGWINDOW:4:20 MINLEN:75\n",
      "Quality encoding detected as phred33\n",
      "Input Reads: 45881517 Surviving: 38549836 (84.02%) Dropped: 7331681 (15.98%)\n",
      "TrimmomaticSE: Completed successfully\n"
     ]
    }
   ],
   "source": [
    "!source trimFastq.sh"
   ]
  },
  {
   "cell_type": "markdown",
   "id": "56ecc880",
   "metadata": {},
   "source": [
    "Now we move all the trimmed files to another folder for organization."
   ]
  },
  {
   "cell_type": "code",
   "execution_count": 31,
   "id": "5e4df027",
   "metadata": {
    "scrolled": true
   },
   "outputs": [
    {
     "name": "stdout",
     "output_type": "stream",
     "text": [
      "SRR5017128_trimmed.fastq.gz  SRR5017135_trimmed.fastq.gz\r\n",
      "SRR5017132_trimmed.fastq.gz  SRR5017137_trimmed.fastq.gz\r\n",
      "SRR5017133_trimmed.fastq.gz  SRR5017138_trimmed.fastq.gz\r\n"
     ]
    }
   ],
   "source": [
    "!ls *_trimmed.fastq.gz"
   ]
  },
  {
   "cell_type": "code",
   "execution_count": 32,
   "id": "27696759",
   "metadata": {},
   "outputs": [],
   "source": [
    "%mkdir -p /home/{MIAMIID}/test/trimmed_reads\n",
    "%mv *_trimmed.fastq.gz /home/{MIAMIID}/test/trimmed_reads"
   ]
  },
  {
   "cell_type": "markdown",
   "id": "2b99c759",
   "metadata": {},
   "source": [
    "Now we can run fastqc on these files to see the quality reports\n",
    "\n",
    "We can also remove all of the normal fastq.gz files since we have higher quality versions of them now."
   ]
  },
  {
   "cell_type": "code",
   "execution_count": 7,
   "id": "d844e738",
   "metadata": {},
   "outputs": [
    {
     "name": "stdout",
     "output_type": "stream",
     "text": [
      "After removing untrimmed fastq files:\n",
      "getFastqData.sh\n"
     ]
    }
   ],
   "source": [
    "%%sh\n",
    "rm *.fastq.gz\n",
    "echo \"After removing untrimmed fastq files:\"\n",
    "ls"
   ]
  },
  {
   "cell_type": "code",
   "execution_count": 8,
   "id": "816b80ec",
   "metadata": {
    "scrolled": true
   },
   "outputs": [
    {
     "name": "stderr",
     "output_type": "stream",
     "text": [
      "Started analysis of SRR5017128_trimmed.fastq.gz\n",
      "Approx 5% complete for SRR5017128_trimmed.fastq.gz\n",
      "Approx 10% complete for SRR5017128_trimmed.fastq.gz\n",
      "Approx 15% complete for SRR5017128_trimmed.fastq.gz\n",
      "Approx 20% complete for SRR5017128_trimmed.fastq.gz\n",
      "Approx 25% complete for SRR5017128_trimmed.fastq.gz\n",
      "Approx 30% complete for SRR5017128_trimmed.fastq.gz\n",
      "Approx 35% complete for SRR5017128_trimmed.fastq.gz\n",
      "Approx 40% complete for SRR5017128_trimmed.fastq.gz\n",
      "Approx 45% complete for SRR5017128_trimmed.fastq.gz\n",
      "Approx 50% complete for SRR5017128_trimmed.fastq.gz\n",
      "Approx 55% complete for SRR5017128_trimmed.fastq.gz\n",
      "Approx 60% complete for SRR5017128_trimmed.fastq.gz\n",
      "Approx 65% complete for SRR5017128_trimmed.fastq.gz\n",
      "Approx 70% complete for SRR5017128_trimmed.fastq.gz\n",
      "Approx 75% complete for SRR5017128_trimmed.fastq.gz\n",
      "Approx 80% complete for SRR5017128_trimmed.fastq.gz\n",
      "Approx 85% complete for SRR5017128_trimmed.fastq.gz\n",
      "Approx 90% complete for SRR5017128_trimmed.fastq.gz\n",
      "Approx 95% complete for SRR5017128_trimmed.fastq.gz\n"
     ]
    },
    {
     "name": "stdout",
     "output_type": "stream",
     "text": [
      "Analysis complete for SRR5017128_trimmed.fastq.gz\n"
     ]
    },
    {
     "name": "stderr",
     "output_type": "stream",
     "text": [
      "Started analysis of SRR5017132_trimmed.fastq.gz\n",
      "Approx 5% complete for SRR5017132_trimmed.fastq.gz\n",
      "Approx 10% complete for SRR5017132_trimmed.fastq.gz\n",
      "Approx 15% complete for SRR5017132_trimmed.fastq.gz\n",
      "Approx 20% complete for SRR5017132_trimmed.fastq.gz\n",
      "Approx 25% complete for SRR5017132_trimmed.fastq.gz\n",
      "Approx 30% complete for SRR5017132_trimmed.fastq.gz\n",
      "Approx 35% complete for SRR5017132_trimmed.fastq.gz\n",
      "Approx 40% complete for SRR5017132_trimmed.fastq.gz\n",
      "Approx 45% complete for SRR5017132_trimmed.fastq.gz\n",
      "Approx 50% complete for SRR5017132_trimmed.fastq.gz\n",
      "Approx 55% complete for SRR5017132_trimmed.fastq.gz\n",
      "Approx 60% complete for SRR5017132_trimmed.fastq.gz\n",
      "Approx 65% complete for SRR5017132_trimmed.fastq.gz\n",
      "Approx 70% complete for SRR5017132_trimmed.fastq.gz\n",
      "Approx 75% complete for SRR5017132_trimmed.fastq.gz\n",
      "Approx 80% complete for SRR5017132_trimmed.fastq.gz\n",
      "Approx 85% complete for SRR5017132_trimmed.fastq.gz\n",
      "Approx 90% complete for SRR5017132_trimmed.fastq.gz\n",
      "Approx 95% complete for SRR5017132_trimmed.fastq.gz\n",
      "Approx 100% complete for SRR5017132_trimmed.fastq.gz\n"
     ]
    },
    {
     "name": "stdout",
     "output_type": "stream",
     "text": [
      "Analysis complete for SRR5017132_trimmed.fastq.gz\n"
     ]
    },
    {
     "name": "stderr",
     "output_type": "stream",
     "text": [
      "Started analysis of SRR5017133_trimmed.fastq.gz\n",
      "Approx 5% complete for SRR5017133_trimmed.fastq.gz\n",
      "Approx 10% complete for SRR5017133_trimmed.fastq.gz\n",
      "Approx 15% complete for SRR5017133_trimmed.fastq.gz\n",
      "Approx 20% complete for SRR5017133_trimmed.fastq.gz\n",
      "Approx 25% complete for SRR5017133_trimmed.fastq.gz\n",
      "Approx 30% complete for SRR5017133_trimmed.fastq.gz\n",
      "Approx 35% complete for SRR5017133_trimmed.fastq.gz\n",
      "Approx 40% complete for SRR5017133_trimmed.fastq.gz\n",
      "Approx 45% complete for SRR5017133_trimmed.fastq.gz\n",
      "Approx 50% complete for SRR5017133_trimmed.fastq.gz\n",
      "Approx 55% complete for SRR5017133_trimmed.fastq.gz\n",
      "Approx 60% complete for SRR5017133_trimmed.fastq.gz\n",
      "Approx 65% complete for SRR5017133_trimmed.fastq.gz\n",
      "Approx 70% complete for SRR5017133_trimmed.fastq.gz\n",
      "Approx 75% complete for SRR5017133_trimmed.fastq.gz\n",
      "Approx 80% complete for SRR5017133_trimmed.fastq.gz\n",
      "Approx 85% complete for SRR5017133_trimmed.fastq.gz\n",
      "Approx 90% complete for SRR5017133_trimmed.fastq.gz\n",
      "Approx 95% complete for SRR5017133_trimmed.fastq.gz\n"
     ]
    },
    {
     "name": "stdout",
     "output_type": "stream",
     "text": [
      "Analysis complete for SRR5017133_trimmed.fastq.gz\n"
     ]
    },
    {
     "name": "stderr",
     "output_type": "stream",
     "text": [
      "Started analysis of SRR5017135_trimmed.fastq.gz\n",
      "Approx 5% complete for SRR5017135_trimmed.fastq.gz\n",
      "Approx 10% complete for SRR5017135_trimmed.fastq.gz\n",
      "Approx 15% complete for SRR5017135_trimmed.fastq.gz\n",
      "Approx 20% complete for SRR5017135_trimmed.fastq.gz\n",
      "Approx 25% complete for SRR5017135_trimmed.fastq.gz\n",
      "Approx 30% complete for SRR5017135_trimmed.fastq.gz\n",
      "Approx 35% complete for SRR5017135_trimmed.fastq.gz\n",
      "Approx 40% complete for SRR5017135_trimmed.fastq.gz\n",
      "Approx 45% complete for SRR5017135_trimmed.fastq.gz\n",
      "Approx 50% complete for SRR5017135_trimmed.fastq.gz\n",
      "Approx 55% complete for SRR5017135_trimmed.fastq.gz\n",
      "Approx 60% complete for SRR5017135_trimmed.fastq.gz\n",
      "Approx 65% complete for SRR5017135_trimmed.fastq.gz\n",
      "Approx 70% complete for SRR5017135_trimmed.fastq.gz\n",
      "Approx 75% complete for SRR5017135_trimmed.fastq.gz\n",
      "Approx 80% complete for SRR5017135_trimmed.fastq.gz\n",
      "Approx 85% complete for SRR5017135_trimmed.fastq.gz\n",
      "Approx 90% complete for SRR5017135_trimmed.fastq.gz\n",
      "Approx 95% complete for SRR5017135_trimmed.fastq.gz\n"
     ]
    },
    {
     "name": "stdout",
     "output_type": "stream",
     "text": [
      "Analysis complete for SRR5017135_trimmed.fastq.gz\n"
     ]
    },
    {
     "name": "stderr",
     "output_type": "stream",
     "text": [
      "Started analysis of SRR5017137_trimmed.fastq.gz\n",
      "Approx 5% complete for SRR5017137_trimmed.fastq.gz\n",
      "Approx 10% complete for SRR5017137_trimmed.fastq.gz\n",
      "Approx 15% complete for SRR5017137_trimmed.fastq.gz\n",
      "Approx 20% complete for SRR5017137_trimmed.fastq.gz\n",
      "Approx 25% complete for SRR5017137_trimmed.fastq.gz\n",
      "Approx 30% complete for SRR5017137_trimmed.fastq.gz\n",
      "Approx 35% complete for SRR5017137_trimmed.fastq.gz\n",
      "Approx 40% complete for SRR5017137_trimmed.fastq.gz\n",
      "Approx 45% complete for SRR5017137_trimmed.fastq.gz\n",
      "Approx 50% complete for SRR5017137_trimmed.fastq.gz\n",
      "Approx 55% complete for SRR5017137_trimmed.fastq.gz\n",
      "Approx 60% complete for SRR5017137_trimmed.fastq.gz\n",
      "Approx 65% complete for SRR5017137_trimmed.fastq.gz\n",
      "Approx 70% complete for SRR5017137_trimmed.fastq.gz\n",
      "Approx 75% complete for SRR5017137_trimmed.fastq.gz\n",
      "Approx 80% complete for SRR5017137_trimmed.fastq.gz\n",
      "Approx 85% complete for SRR5017137_trimmed.fastq.gz\n",
      "Approx 90% complete for SRR5017137_trimmed.fastq.gz\n",
      "Approx 95% complete for SRR5017137_trimmed.fastq.gz\n"
     ]
    },
    {
     "name": "stdout",
     "output_type": "stream",
     "text": [
      "Analysis complete for SRR5017137_trimmed.fastq.gz\n"
     ]
    },
    {
     "name": "stderr",
     "output_type": "stream",
     "text": [
      "Started analysis of SRR5017138_trimmed.fastq.gz\n",
      "Approx 5% complete for SRR5017138_trimmed.fastq.gz\n",
      "Approx 10% complete for SRR5017138_trimmed.fastq.gz\n",
      "Approx 15% complete for SRR5017138_trimmed.fastq.gz\n",
      "Approx 20% complete for SRR5017138_trimmed.fastq.gz\n",
      "Approx 25% complete for SRR5017138_trimmed.fastq.gz\n",
      "Approx 30% complete for SRR5017138_trimmed.fastq.gz\n",
      "Approx 35% complete for SRR5017138_trimmed.fastq.gz\n",
      "Approx 40% complete for SRR5017138_trimmed.fastq.gz\n",
      "Approx 45% complete for SRR5017138_trimmed.fastq.gz\n",
      "Approx 50% complete for SRR5017138_trimmed.fastq.gz\n",
      "Approx 55% complete for SRR5017138_trimmed.fastq.gz\n",
      "Approx 60% complete for SRR5017138_trimmed.fastq.gz\n",
      "Approx 65% complete for SRR5017138_trimmed.fastq.gz\n",
      "Approx 70% complete for SRR5017138_trimmed.fastq.gz\n",
      "Approx 75% complete for SRR5017138_trimmed.fastq.gz\n",
      "Approx 80% complete for SRR5017138_trimmed.fastq.gz\n",
      "Approx 85% complete for SRR5017138_trimmed.fastq.gz\n",
      "Approx 90% complete for SRR5017138_trimmed.fastq.gz\n",
      "Approx 95% complete for SRR5017138_trimmed.fastq.gz\n"
     ]
    },
    {
     "name": "stdout",
     "output_type": "stream",
     "text": [
      "Analysis complete for SRR5017138_trimmed.fastq.gz\n"
     ]
    }
   ],
   "source": [
    "%%sh\n",
    "for trimmed_file in /home/{MIAMIID}/test/trimmed_reads/*_trimmed.fastq.gz\n",
    " do\n",
    " fastqc $trimmed_file\n",
    " done"
   ]
  },
  {
   "cell_type": "code",
   "execution_count": 9,
   "id": "b33585ee",
   "metadata": {},
   "outputs": [],
   "source": [
    "%%sh\n",
    "mkdir -p /home/{MIAMIID}/test/trimmed_reads/fastqc_trimmed_results\n",
    "mv /home/{MIAMIID}/test/trimmed_reads/*.html /home/{MIAMIID}/test/trimmed_reads/fastqc_trimmed_results\n",
    "mv /home/{MIAMIID}/test/trimmed_reads/*.zip /home/{MIAMIID}/test/trimmed_reads/fastqc_trimmed_results"
   ]
  },
  {
   "cell_type": "markdown",
   "id": "6ef4f941",
   "metadata": {},
   "source": [
    "# Now you have trimmed sequences of higher quality than the original sequences."
   ]
  }
 ],
 "metadata": {
  "kernelspec": {
   "display_name": "Python 3",
   "language": "python",
   "name": "python3"
  },
  "language_info": {
   "codemirror_mode": {
    "name": "ipython",
    "version": 3
   },
   "file_extension": ".py",
   "mimetype": "text/x-python",
   "name": "python",
   "nbconvert_exporter": "python",
   "pygments_lexer": "ipython3",
   "version": "3.10.9"
  },
  "vscode": {
   "interpreter": {
    "hash": "b0fa6594d8f4cbf19f97940f81e996739fb7646882a419484c72d19e05852a7e"
   }
  }
 },
 "nbformat": 4,
 "nbformat_minor": 5
}
