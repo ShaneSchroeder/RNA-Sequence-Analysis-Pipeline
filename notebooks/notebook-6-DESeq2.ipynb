{
 "cells": [
  {
   "cell_type": "markdown",
   "id": "760c6ee5",
   "metadata": {},
   "source": [
    "# From the previous notebook we saw that each of the mouse samples had different feature counts, now we can look further into the data to figure out how they were expressed differently based on those feature counts. We will use R and the packages Rsubread and DESeq2 for this analysis (use following command to load R that already has the packages installed: \n",
    "# module load R-4.1.2"
   ]
  },
  {
   "cell_type": "code",
   "execution_count": 2,
   "id": "08513a92",
   "metadata": {},
   "outputs": [
    {
     "name": "stdout",
     "output_type": "stream",
     "text": [
      "schroe51\n"
     ]
    }
   ],
   "source": [
    "MIAMIID = !echo $USER\n",
    "MIAMIID = str(MIAMIID)\n",
    "MIAMIID = MIAMIID[2:len(MIAMIID)-2]\n",
    "print(MIAMIID)"
   ]
  },
  {
   "cell_type": "markdown",
   "id": "8ff9ed6e",
   "metadata": {},
   "source": [
    "## We are going to read in counts.csv from last notebook in an R script to use DESeq2"
   ]
  },
  {
   "cell_type": "code",
   "execution_count": 3,
   "id": "ec512673",
   "metadata": {},
   "outputs": [
    {
     "name": "stdout",
     "output_type": "stream",
     "text": [
      "/home/schroe51/test/DESeq2\n"
     ]
    }
   ],
   "source": [
    "%mkdir -p /home/{MIAMIID}/test/DESeq2\n",
    "%cd /home/{MIAMIID}/test/DESeq2"
   ]
  },
  {
   "cell_type": "markdown",
   "id": "2edab645",
   "metadata": {},
   "source": [
    "## We need to now generate a metadata file for our run data in order for DESeq2 to perform analysis. Refer to the following table to see how we are constructing our metadata. This data was derived from the metadata of the runs for this experiment on the NCBI run selector.\n",
    "\n",
    "| SRR ID | Treatment |\n",
    "| --- | --- |\n",
    "| SRR5017135 | High-Fat Diet Control 1 |\n",
    "| SRR5017137 | High-Fat Diet Control 2 |\n",
    "| SRR5017133 | High-Fat Diet Control 3 |\n",
    "| SRR5017132 | High-Fat Diet Tumor 1 |\n",
    "| SRR5017128 | High-Fat Diet Tumor 2 |\n",
    "| SRR5017138 | High-Fat Diet Tumor 3 |"
   ]
  },
  {
   "cell_type": "code",
   "execution_count": 3,
   "id": "a545ad14",
   "metadata": {},
   "outputs": [],
   "source": [
    "import csv\n",
    "\n",
    "pathToNewFile = \"/home/\"+ MIAMIID + \"/test/DESeq2/metadata.csv\"\n",
    "\n",
    "header = ['SRR.ID', 'Treatment']\n",
    "data = [\"SRR5017135\", \"HFD.Control\", \n",
    "        \"SRR5017137\", \"HFD.Control\", \n",
    "        \"SRR5017133\", \"HFD.Control\", \n",
    "        \"SRR5017132\", \"HFD.Tumor\", \n",
    "        \"SRR5017128\", \"HFD.Tumor\", \n",
    "        \"SRR5017138\", \"HFD.Tumor\"]\n",
    "\n",
    "# open the file in the write mode\n",
    "with open(pathToNewFile, 'w', encoding='UTF8') as f:\n",
    "    writer = csv.writer(f)\n",
    "\n",
    "    # write the header\n",
    "    writer.writerow(header)\n",
    "\n",
    "    # write the data\n",
    "    for i in range(0, len(data) - 1, 2):\n",
    "        writer.writerow(data[i: i+2])\n"
   ]
  },
  {
   "cell_type": "code",
   "execution_count": 3,
   "id": "726f48f8",
   "metadata": {},
   "outputs": [
    {
     "name": "stdout",
     "output_type": "stream",
     "text": [
      "SRR.ID,Treatment\r",
      "\r\n",
      "SRR5017135,HFD.Control\r",
      "\r\n",
      "SRR5017137,HFD.Control\r",
      "\r\n",
      "SRR5017133,HFD.Control\r",
      "\r\n",
      "SRR5017132,HFD.Tumor\r",
      "\r\n",
      "SRR5017128,HFD.Tumor\r",
      "\r\n",
      "SRR5017138,HFD.Tumor\r",
      "\r\n"
     ]
    }
   ],
   "source": [
    "!cat /home/{MIAMIID}/test/DESeq2/metadata.csv"
   ]
  },
  {
   "cell_type": "markdown",
   "id": "8d03a17e",
   "metadata": {},
   "source": [
    "## Now that we have our meta data, we can write our R script to use DESeq2 to get statistics about differential expression."
   ]
  },
  {
   "cell_type": "code",
   "execution_count": 10,
   "id": "efb3585f",
   "metadata": {},
   "outputs": [],
   "source": [
    "pathToCountData = \"/home/\"+ MIAMIID + \"/test/featureCounts/counts.csv\"\n",
    "pathToMetaData = \"/home/\"+ MIAMIID + \"/test/DESeq2/metadata.csv\"\n",
    "\n",
    "DESeq2Script = '''\n",
    "suppressMessages(library( \"DESeq2\" ))\n",
    "suppressMessages(library(ggplot2))\n",
    "suppressMessages(library(ggpubr))\n",
    "suppressMessages(library(ggrepel))\n",
    "\n",
    "countData <- read.csv(\"''' + pathToCountData + '''\", header = TRUE, sep = \",\")\n",
    "metaData <- read.csv(\"''' + pathToMetaData + '''\", header = TRUE, sep = \",\")\n",
    "\n",
    "# construct DESeq data object\n",
    "dds <- DESeqDataSetFromMatrix(countData=countData, \n",
    "                              colData=metaData, \n",
    "                              design=~Treatment, tidy = TRUE)\n",
    "\n",
    "# take a look at the DESeq data object\n",
    "dds\n",
    "\n",
    "# \n",
    "dds <- DESeq(dds)\n",
    "\n",
    "res <- results(dds)\n",
    "head(results(dds, tidy=TRUE))\n",
    "\n",
    "summary(res)\n",
    "\n",
    "res <- res[order(res$padj),]\n",
    "head(res)\n",
    "\n",
    "# plotting counts for the lowest p-value genes\n",
    "\n",
    "par(mfrow=c(2,3))\n",
    "\n",
    "d1 <- plotCounts(dds, gene=\"ENSMUSG00000110469\", intgroup=\"Treatment\", returnData=TRUE)\n",
    "d2 <- plotCounts(dds, gene=\"ENSMUSG00000044424\", intgroup=\"Treatment\", returnData=TRUE)\n",
    "d3 <- plotCounts(dds, gene=\"ENSMUSG00000107383\", intgroup=\"Treatment\", returnData=TRUE)\n",
    "d4 <- plotCounts(dds, gene=\"ENSMUSG00000114547\", intgroup=\"Treatment\", returnData=TRUE)\n",
    "d5 <- plotCounts(dds, gene=\"ENSMUSG00000057657\", intgroup=\"Treatment\", returnData=TRUE)\n",
    "d6 <- plotCounts(dds, gene=\"ENSMUSG00000084149\", intgroup=\"Treatment\", returnData=TRUE)\n",
    "\n",
    "plot_pval_1 <- ggplot(d1, aes(x = Treatment, y = count, color = Treatment)) + \n",
    "  geom_point(position=position_jitter(w = 0.1,h = 0)) +\n",
    "  theme_bw() +\n",
    "  ggtitle(\"ENSMUSG00000110469\") +\n",
    "  theme(plot.title = element_text(hjust = 0.5))\n",
    "  \n",
    "plot_pval_2 <- ggplot(d2, aes(x = Treatment, y = count, color = Treatment)) + \n",
    "  geom_point(position=position_jitter(w = 0.1,h = 0)) +\n",
    "  theme_bw() +\n",
    "  ggtitle(\"ENSMUSG00000044424\") +\n",
    "  theme(plot.title = element_text(hjust = 0.5))\n",
    "  \n",
    "plot_pval_3 <- ggplot(d3, aes(x = Treatment, y = count, color = Treatment)) + \n",
    "  geom_point(position=position_jitter(w = 0.1,h = 0)) +\n",
    "  theme_bw() +\n",
    "  ggtitle(\"ENSMUSG00000107383\") +\n",
    "  theme(plot.title = element_text(hjust = 0.5))\n",
    "  \n",
    "plot_pval_4 <- ggplot(d4, aes(x = Treatment, y = count, color = Treatment)) + \n",
    "  geom_point(position=position_jitter(w = 0.1,h = 0)) +\n",
    "  theme_bw() +\n",
    "  ggtitle(\"ENSMUSG00000114547\") +\n",
    "  theme(plot.title = element_text(hjust = 0.5))\n",
    "  \n",
    "plot_pval_5 <- ggplot(d5, aes(x = Treatment, y = count, color = Treatment)) + \n",
    "  geom_point(position=position_jitter(w = 0.1,h = 0)) +\n",
    "  theme_bw() +\n",
    "  ggtitle(\"ENSMUSG00000057657\") +\n",
    "  theme(plot.title = element_text(hjust = 0.5))\n",
    "  \n",
    "plot_pval_6 <- ggplot(d6, aes(x = Treatment, y = count, color = Treatment)) + \n",
    "  geom_point(position=position_jitter(w = 0.1,h = 0)) +\n",
    "  theme_bw() +\n",
    "  ggtitle(\"ENSMUSG00000084149\") +\n",
    "  theme(plot.title = element_text(hjust = 0.5))\n",
    "\n",
    "arrange <- ggarrange(plot_pval_1, plot_pval_2, plot_pval_3, plot_pval_4, plot_pval_5, plot_pval_6, ncol = 2, nrow = 3)\n",
    "ggsave(\"6mostSigGenes.png\", arrange)\n",
    "\n",
    "# volcano plot\n",
    "\n",
    "#reset par\n",
    "par(mfrow=c(1,1))\n",
    "\n",
    "# Make a basic volcano plot\n",
    "\n",
    "# res <- as.data.frame(res)\n",
    "# print(colnames(res))\n",
    "# \n",
    "# res$diffexpressed <- \"NO\"\n",
    "# res$diffexpressed[res$log2FoldChange > 0.6 & res$pvalue < 0.05] <- \"UP\"\n",
    "# res$diffexpressed[res$log2FoldChange < -0.6 & res$pvalue < 0.05] <- \"DOWN\"\n",
    "# \n",
    "# volcano <- ggplot(data=res, aes(x=log2FoldChange, y=-log10(pvalue), col=diffexpressed, label=res.index)) +\n",
    "#           geom_point() + \n",
    "#           theme_minimal() +\n",
    "#           geom_text_repel() +\n",
    "#           scale_color_manual(values=c(\"blue\", \"black\", \"red\")) +\n",
    "#           geom_vline(xintercept=c(-0.6, 0.6), col=\"red\") +\n",
    "#           geom_hline(yintercept=-log10(0.05), col=\"red\")\n",
    "\n",
    "volcano <- with(res, plot(log2FoldChange, -log10(pvalue), pch=20, main=\"Volcano plot\"))\n",
    "\n",
    "# Add colored points: blue if padj<0.01, red if log2FC>1 and padj<0.05)\n",
    "volcano <- with(subset(res, padj<.05 & log2FoldChange< -1), points(log2FoldChange, -log10(pvalue), pch=20, col=\"blue\"))\n",
    "volcano <- with(subset(res, padj<.05 & log2FoldChange>1), points(log2FoldChange, -log10(pvalue), pch=20, col=\"red\"))\n",
    "\n",
    "ggsave(\"volcano.png\", volcano)\n",
    "\n",
    "# PCA\n",
    "vsdata <- vst(dds, blind=FALSE)\n",
    "pcaData <- plotPCA(vsdata, intgroup=\"Treatment\", returnData=TRUE)\n",
    "pcaPlot <- ggplot(pcaData, aes(x=PC1,y=PC2,col=Treatment,label=name)) + geom_point() + geom_text_repel()\n",
    "ggsave(\"pca.png\", pcaPlot)\n",
    "'''\n",
    "with open('DESeq2_analysis.R', 'w') as file:\n",
    "  file.write(DESeq2Script)"
   ]
  },
  {
   "cell_type": "code",
   "execution_count": 11,
   "id": "c9c66b16",
   "metadata": {
    "scrolled": false
   },
   "outputs": [
    {
     "name": "stdout",
     "output_type": "stream",
     "text": [
      "class: DESeqDataSet \n",
      "dim: 55487 6 \n",
      "metadata(1): version\n",
      "assays(1): counts\n",
      "rownames(55487): ENSMUSG00000102693 ENSMUSG00000064842 ...\n",
      "  ENSMUSG00000064371 ENSMUSG00000064372\n",
      "rowData names(0):\n",
      "colnames(6): SRR5017128 SRR5017132 ... SRR5017137 SRR5017138\n",
      "colData names(2): SRR.ID Treatment\n",
      "                 row baseMean log2FoldChange     lfcSE     stat    pvalue\n",
      "1 ENSMUSG00000102693  0.00000             NA        NA       NA        NA\n",
      "2 ENSMUSG00000064842  0.00000             NA        NA       NA        NA\n",
      "3 ENSMUSG00000051951 59.77209      0.5375137 0.5246271 1.024563 0.3055692\n",
      "4 ENSMUSG00000102851  0.00000             NA        NA       NA        NA\n",
      "5 ENSMUSG00000103377  0.00000             NA        NA       NA        NA\n",
      "6 ENSMUSG00000104017  0.00000             NA        NA       NA        NA\n",
      "       padj\n",
      "1        NA\n",
      "2        NA\n",
      "3 0.9993064\n",
      "4        NA\n",
      "5        NA\n",
      "6        NA\n",
      "\n",
      "out of 24383 with nonzero total read count\n",
      "adjusted p-value < 0.1\n",
      "LFC > 0 (up)       : 15, 0.062%\n",
      "LFC < 0 (down)     : 29, 0.12%\n",
      "outliers [1]       : 493, 2%\n",
      "low counts [2]     : 2205, 9%\n",
      "(mean count < 1)\n",
      "[1] see 'cooksCutoff' argument of ?results\n",
      "[2] see 'independentFiltering' argument of ?results\n",
      "\n",
      "log2 fold change (MLE): Treatment HFD.Tumor vs HFD.Control \n",
      "Wald test p-value: Treatment HFD.Tumor vs HFD.Control \n",
      "DataFrame with 6 rows and 6 columns\n",
      "                    baseMean log2FoldChange     lfcSE      stat      pvalue\n",
      "                   <numeric>      <numeric> <numeric> <numeric>   <numeric>\n",
      "ENSMUSG00000110469  16091.04        17.3904   1.20590   14.4210 3.81608e-47\n",
      "ENSMUSG00000044424   6393.84       -16.1125   1.22508  -13.1522 1.65339e-39\n",
      "ENSMUSG00000107383   3966.76       -15.4237   1.24100  -12.4284 1.83193e-35\n",
      "ENSMUSG00000114547   3401.90       -15.2021   1.23447  -12.3146 7.55451e-35\n",
      "ENSMUSG00000057657   3251.66       -15.1370   1.24584  -12.1500 5.73466e-34\n",
      "ENSMUSG00000084149   1665.97       -14.1721   1.29506  -10.9432 7.16124e-28\n",
      "                          padj\n",
      "                     <numeric>\n",
      "ENSMUSG00000110469 8.27517e-43\n",
      "ENSMUSG00000044424 1.79269e-35\n",
      "ENSMUSG00000107383 1.32418e-31\n",
      "ENSMUSG00000114547 4.09549e-31\n",
      "ENSMUSG00000057657 2.48712e-30\n",
      "ENSMUSG00000084149 2.58819e-24\n"
     ]
    },
    {
     "name": "stderr",
     "output_type": "stream",
     "text": [
      "Warning message:\n",
      "In DESeqDataSet(se, design = design, ignoreRank) :\n",
      "  some variables in design formula are characters, converting to factors\n",
      "estimating size factors\n",
      "estimating dispersions\n",
      "gene-wise dispersion estimates\n",
      "mean-dispersion relationship\n",
      "final dispersion estimates\n",
      "fitting model and testing\n",
      "Saving 7 x 7 in image\n",
      "Saving 7 x 7 in image\n",
      "Saving 7 x 7 in image\n"
     ]
    }
   ],
   "source": [
    "%%sh\n",
    "Rscript DESeq2_analysis.R"
   ]
  },
  {
   "cell_type": "markdown",
   "id": "ec7df15a",
   "metadata": {},
   "source": [
    "# Now that we have finished the statistical model, let us move and look at some of the plots that were generated"
   ]
  },
  {
   "cell_type": "code",
   "execution_count": 12,
   "id": "219c0f34",
   "metadata": {},
   "outputs": [
    {
     "name": "stdout",
     "output_type": "stream",
     "text": [
      "/home/schroe51/test/DESeq2/plots\n",
      "6mostSigGenes.png  pca.png  Rplots.pdf\tvolcano.png\r\n"
     ]
    }
   ],
   "source": [
    "%mkdir -p /home/{MIAMIID}/test/DESeq2/plots\n",
    "!mv *.png /home/{MIAMIID}/test/DESeq2/plots\n",
    "!mv *.pdf /home/{MIAMIID}/test/DESeq2/plots\n",
    "%cd /home/{MIAMIID}/test/DESeq2/plots\n",
    "!ls"
   ]
  },
  {
   "cell_type": "markdown",
   "id": "46164d6a",
   "metadata": {},
   "source": [
    "# Congratulations! You are now done generating data, you may now interpret the results in the output and the graphs generated by the R script."
   ]
  }
 ],
 "metadata": {
  "kernelspec": {
   "display_name": "Python 3",
   "language": "python",
   "name": "python3"
  },
  "language_info": {
   "codemirror_mode": {
    "name": "ipython",
    "version": 3
   },
   "file_extension": ".py",
   "mimetype": "text/x-python",
   "name": "python",
   "nbconvert_exporter": "python",
   "pygments_lexer": "ipython3",
   "version": "3.7.1"
  }
 },
 "nbformat": 4,
 "nbformat_minor": 5
}
